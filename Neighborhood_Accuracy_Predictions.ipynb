{
 "cells": [
  {
   "cell_type": "code",
   "execution_count": 130,
   "metadata": {
    "collapsed": true
   },
   "outputs": [],
   "source": [
    "import numpy as np\n",
    "import pandas as pd\n",
    "import math\n",
    "from scipy import stats\n",
    "import seaborn as sns\n",
    "import matplotlib.pyplot as plt"
   ]
  },
  {
   "cell_type": "code",
   "execution_count": 131,
   "metadata": {},
   "outputs": [
    {
     "name": "stdout",
     "output_type": "stream",
     "text": [
      "<class 'pandas.core.frame.DataFrame'>\n",
      "RangeIndex: 2039 entries, 0 to 2038\n",
      "Data columns (total 81 columns):\n",
      "SubClass         2039 non-null int64\n",
      "Zoning           2039 non-null object\n",
      "LotFrontage      1714 non-null float64\n",
      "LotArea          2039 non-null int64\n",
      "Street           2039 non-null object\n",
      "Alley            146 non-null object\n",
      "LotShape         2039 non-null object\n",
      "LandContour      2039 non-null object\n",
      "Utilities        2039 non-null object\n",
      "LotConfig        2039 non-null object\n",
      "LandSlope        2039 non-null object\n",
      "Neighborhood     2039 non-null object\n",
      "Condition1       2039 non-null object\n",
      "Condition2       2039 non-null object\n",
      "BldgType         2039 non-null object\n",
      "HouseStyle       2039 non-null object\n",
      "OverallQual      2039 non-null int64\n",
      "OverallCond      2039 non-null int64\n",
      "YearBuilt        2039 non-null int64\n",
      "YearRemodel      2039 non-null int64\n",
      "RoofStyle        2039 non-null object\n",
      "RoofMat          2039 non-null object\n",
      "Exterior1        2039 non-null object\n",
      "Exterior2        2039 non-null object\n",
      "MasVnrType       2024 non-null object\n",
      "MasVnrArea       2024 non-null float64\n",
      "ExterQual        2039 non-null object\n",
      "ExterCond        2039 non-null object\n",
      "Foundation       2039 non-null object\n",
      "BsmtQual         1985 non-null object\n",
      "BsmtCond         1985 non-null object\n",
      "BsmtExposure     1983 non-null object\n",
      "BsmtFinType1     1985 non-null object\n",
      "BsmtFinSF1       2038 non-null float64\n",
      "BsmtFinType2     1985 non-null object\n",
      "BsmtFinSF2       2038 non-null float64\n",
      "BsmtUnfSF        2038 non-null float64\n",
      "TotalBsmtSF      2038 non-null float64\n",
      "Heating          2039 non-null object\n",
      "HeatingQC        2039 non-null object\n",
      "CentralAir       2039 non-null object\n",
      "Electrical       2038 non-null object\n",
      "FirstFlrSF       2039 non-null int64\n",
      "SecondFlrSF      2039 non-null int64\n",
      "LowQualFinSF     2039 non-null int64\n",
      "GrLivArea        2039 non-null int64\n",
      "BsmtFullBath     2037 non-null float64\n",
      "BsmtHalfBath     2037 non-null float64\n",
      "FullBath         2039 non-null int64\n",
      "HalfBath         2039 non-null int64\n",
      "BedroomAbvGr     2039 non-null int64\n",
      "KitchenAbvGr     2039 non-null int64\n",
      "KitchenQual      2039 non-null object\n",
      "TotRmsAbvGrd     2039 non-null int64\n",
      "Functional       2039 non-null object\n",
      "Fireplaces       2039 non-null int64\n",
      "FireplaceQu      1027 non-null object\n",
      "GarageType       1921 non-null object\n",
      "GarageYrBlt      1920 non-null float64\n",
      "GarageFinish     1920 non-null object\n",
      "GarageCars       2039 non-null int64\n",
      "GarageArea       2039 non-null int64\n",
      "GarageQual       1920 non-null object\n",
      "GarageCond       1920 non-null object\n",
      "PavedDrive       2039 non-null object\n",
      "WoodDeckSF       2039 non-null int64\n",
      "OpenPorchSF      2039 non-null int64\n",
      "EnclosedPorch    2039 non-null int64\n",
      "ThreeSsnPorch    2039 non-null int64\n",
      "ScreenPorch      2039 non-null int64\n",
      "PoolArea         2039 non-null int64\n",
      "PoolQC           11 non-null object\n",
      "Fence            400 non-null object\n",
      "MiscFeature      76 non-null object\n",
      "MiscVal          2039 non-null int64\n",
      "MoSold           2039 non-null int64\n",
      "YrSold           2039 non-null int64\n",
      "SaleType         2039 non-null object\n",
      "SaleCondition    2039 non-null object\n",
      "SalePrice        2039 non-null int64\n",
      "index            2039 non-null int64\n",
      "dtypes: float64(9), int64(29), object(43)\n",
      "memory usage: 1.3+ MB\n"
     ]
    }
   ],
   "source": [
    "train = pd.read_csv('AMES_TRAIN.csv')\n",
    "train.info()"
   ]
  },
  {
   "cell_type": "code",
   "execution_count": 132,
   "metadata": {},
   "outputs": [
    {
     "data": {
      "text/plain": [
       "SubClass          1.359068\n",
       "LotFrontage       1.324939\n",
       "LotArea          13.440253\n",
       "OverallQual       0.236762\n",
       "OverallCond       0.630925\n",
       "YearBuilt        -0.573914\n",
       "YearRemodel      -0.441998\n",
       "MasVnrArea        2.601839\n",
       "BsmtFinSF1        1.482461\n",
       "BsmtFinSF2        4.164721\n",
       "BsmtUnfSF         0.942110\n",
       "TotalBsmtSF       1.112250\n",
       "FirstFlrSF        1.330116\n",
       "SecondFlrSF       0.876115\n",
       "LowQualFinSF     10.216197\n",
       "GrLivArea         1.300669\n",
       "BsmtFullBath      0.642910\n",
       "BsmtHalfBath      4.038597\n",
       "FullBath          0.122252\n",
       "HalfBath          0.695178\n",
       "BedroomAbvGr      0.295567\n",
       "KitchenAbvGr      4.413040\n",
       "TotRmsAbvGrd      0.706435\n",
       "Fireplaces        0.808304\n",
       "GarageYrBlt      -0.260062\n",
       "GarageCars       -0.218393\n",
       "GarageArea        0.263416\n",
       "WoodDeckSF        1.592101\n",
       "OpenPorchSF       2.587807\n",
       "EnclosedPorch     3.288317\n",
       "ThreeSsnPorch    10.902690\n",
       "ScreenPorch       4.005293\n",
       "PoolArea         15.522422\n",
       "MiscVal          20.189763\n",
       "MoSold            0.184525\n",
       "YrSold            0.114740\n",
       "SalePrice         1.767097\n",
       "index            -0.024955\n",
       "dtype: float64"
      ]
     },
     "execution_count": 132,
     "metadata": {},
     "output_type": "execute_result"
    }
   ],
   "source": [
    "train.skew()"
   ]
  },
  {
   "cell_type": "code",
   "execution_count": 133,
   "metadata": {
    "collapsed": true
   },
   "outputs": [],
   "source": [
    "train_d = train.copy()\n",
    "train_d = pd.get_dummies(train_d)"
   ]
  },
  {
   "cell_type": "code",
   "execution_count": 134,
   "metadata": {
    "collapsed": true
   },
   "outputs": [],
   "source": [
    "keep_cols = train_d.select_dtypes(include=['number']).columns\n",
    "train_d = train_d[keep_cols]"
   ]
  },
  {
   "cell_type": "code",
   "execution_count": 135,
   "metadata": {
    "collapsed": true
   },
   "outputs": [],
   "source": [
    "train_d = train_d.fillna(train_d.mean())"
   ]
  },
  {
   "cell_type": "code",
   "execution_count": 136,
   "metadata": {
    "collapsed": true
   },
   "outputs": [],
   "source": [
    "test = pd.read_csv('AMES_TEST_SFAM.csv')"
   ]
  },
  {
   "cell_type": "code",
   "execution_count": 137,
   "metadata": {
    "collapsed": true
   },
   "outputs": [],
   "source": [
    "test_d = test.copy()\n",
    "test_d = pd.get_dummies(test_d)"
   ]
  },
  {
   "cell_type": "code",
   "execution_count": 138,
   "metadata": {
    "collapsed": true
   },
   "outputs": [],
   "source": [
    "test_d = test_d.fillna(test_d.mean())"
   ]
  },
  {
   "cell_type": "code",
   "execution_count": 139,
   "metadata": {
    "collapsed": true
   },
   "outputs": [],
   "source": [
    "for col in keep_cols:\n",
    "    if col not in test_d:\n",
    "        test_d[col] = 0"
   ]
  },
  {
   "cell_type": "code",
   "execution_count": 140,
   "metadata": {
    "collapsed": true
   },
   "outputs": [],
   "source": [
    "test_d = test_d[keep_cols]"
   ]
  },
  {
   "cell_type": "code",
   "execution_count": 141,
   "metadata": {
    "collapsed": true
   },
   "outputs": [],
   "source": [
    "from sklearn.ensemble import RandomForestRegressor\n",
    "from sklearn.model_selection import cross_val_score\n",
    "from sklearn.model_selection import GridSearchCV"
   ]
  },
  {
   "cell_type": "code",
   "execution_count": 142,
   "metadata": {
    "collapsed": true
   },
   "outputs": [],
   "source": [
    "#rf_test = RandomForestRegressor(max_depth=30, n_estimators=500, max_features = 100, oob_score=True, random_state=1234)\n",
    "#cv_score = cross_val_score(rf_test, train_d.drop('SalePrice', axis = 1), train_d['SalePrice'], cv = 5, n_jobs = -1)"
   ]
  },
  {
   "cell_type": "code",
   "execution_count": 143,
   "metadata": {
    "collapsed": true
   },
   "outputs": [],
   "source": [
    "#print('CV Score is: '+ str(np.mean(cv_score)))"
   ]
  },
  {
   "cell_type": "code",
   "execution_count": 144,
   "metadata": {
    "collapsed": true
   },
   "outputs": [],
   "source": [
    "train_0 = train.copy()"
   ]
  },
  {
   "cell_type": "code",
   "execution_count": 145,
   "metadata": {
    "collapsed": true
   },
   "outputs": [],
   "source": [
    "null_index = train_0.LotFrontage.isnull()\n",
    "train_0.loc[null_index,'LotFrontage'] = 0"
   ]
  },
  {
   "cell_type": "code",
   "execution_count": 146,
   "metadata": {
    "collapsed": true
   },
   "outputs": [],
   "source": [
    "train_0 = pd.get_dummies(train_0)"
   ]
  },
  {
   "cell_type": "code",
   "execution_count": 147,
   "metadata": {
    "collapsed": true
   },
   "outputs": [],
   "source": [
    "keep_cols = train_0.select_dtypes(include=['number']).columns\n",
    "train_0 = train_0[keep_cols]"
   ]
  },
  {
   "cell_type": "code",
   "execution_count": 148,
   "metadata": {
    "collapsed": true
   },
   "outputs": [],
   "source": [
    "train_0 = train_0.fillna(train_0.mean())"
   ]
  },
  {
   "cell_type": "code",
   "execution_count": 149,
   "metadata": {
    "collapsed": true
   },
   "outputs": [],
   "source": [
    "#rf_test = RandomForestRegressor(max_depth=30, n_estimators=500, max_features = 100, oob_score=True, n_jobs=-1, random_state=1234)\n",
    "#cv_score = cross_val_score(rf_test, train_0.drop('SalePrice', axis = 1), train_0['SalePrice'], cv = 5, n_jobs=-1)"
   ]
  },
  {
   "cell_type": "code",
   "execution_count": 150,
   "metadata": {},
   "outputs": [
    {
     "data": {
      "image/png": "[encoded data removed]",
      "text/plain": [
       "<matplotlib.figure.Figure at 0x112c01b00>"
      ]
     },
     "metadata": {},
     "output_type": "display_data"
    },
    {
     "data": {
      "text/plain": [
       "<matplotlib.figure.Figure at 0x112c01e80>"
      ]
     },
     "metadata": {},
     "output_type": "display_data"
    }
   ],
   "source": [
    "sns.barplot(data=train,x='Neighborhood',y='LotFrontage', estimator=np.median)\n",
    "plt.xticks(rotation=90)\n",
    "plt.show()\n",
    "plt.gcf().clear()"
   ]
  },
  {
   "cell_type": "code",
   "execution_count": 151,
   "metadata": {
    "collapsed": true
   },
   "outputs": [],
   "source": [
    "gb_neigh_LF = train['LotFrontage'].groupby(train['Neighborhood'])"
   ]
  },
  {
   "cell_type": "code",
   "execution_count": 152,
   "metadata": {
    "collapsed": true
   },
   "outputs": [],
   "source": [
    "train_LFm = train.copy()"
   ]
  },
  {
   "cell_type": "code",
   "execution_count": 153,
   "metadata": {
    "collapsed": true
   },
   "outputs": [],
   "source": [
    "# for the key (the key is neighborhood in this case), and the group object (group is LotFrontage grouped by Neighborhood) \n",
    "# associated with it...\n",
    "for key,group in gb_neigh_LF:\n",
    "    # find where we are both simultaneously missing values and where the key exists\n",
    "    lot_f_nulls_nei = train['LotFrontage'].isnull() & (train['Neighborhood'] == key)\n",
    "    # fill in those blanks with the median of the key's group object\n",
    "    train_LFm.loc[lot_f_nulls_nei,'LotFrontage'] = group.median()"
   ]
  },
  {
   "cell_type": "code",
   "execution_count": 154,
   "metadata": {
    "collapsed": true
   },
   "outputs": [],
   "source": [
    "train_LFm = pd.get_dummies(train_LFm)"
   ]
  },
  {
   "cell_type": "code",
   "execution_count": 155,
   "metadata": {
    "collapsed": true
   },
   "outputs": [],
   "source": [
    "keep_cols = train_LFm.select_dtypes(include=['number']).columns\n",
    "train_LFm = train_LFm[keep_cols]"
   ]
  },
  {
   "cell_type": "code",
   "execution_count": 156,
   "metadata": {
    "collapsed": true
   },
   "outputs": [],
   "source": [
    "train_LFm = train_LFm.fillna(train_LFm.mean())"
   ]
  },
  {
   "cell_type": "code",
   "execution_count": 157,
   "metadata": {
    "collapsed": true
   },
   "outputs": [],
   "source": [
    "#rf_test = RandomForestRegressor(max_depth=30, n_estimators=500, max_features = 100, oob_score=True, n_jobs=-1, random_state= 1234)\n",
    "#cv_score = cross_val_score(rf_test, train_LFm.drop('SalePrice', axis = 1), train_LFm['SalePrice'], cv = 5, n_jobs=-1)"
   ]
  },
  {
   "cell_type": "code",
   "execution_count": 158,
   "metadata": {
    "collapsed": true
   },
   "outputs": [],
   "source": [
    "#print('CV Score is: '+ str(np.mean(cv_score)))"
   ]
  },
  {
   "cell_type": "code",
   "execution_count": 159,
   "metadata": {
    "collapsed": true
   },
   "outputs": [],
   "source": [
    "train_med = train.copy()"
   ]
  },
  {
   "cell_type": "code",
   "execution_count": 160,
   "metadata": {
    "collapsed": true
   },
   "outputs": [],
   "source": [
    "# for the key (the key is neighborhood in this case), and the group object (group is LotFrontage grouped by Neighborhood) \n",
    "# associated with it...\n",
    "for key,group in gb_neigh_LF:\n",
    "    # find where we are both simultaneously missing values and where the key exists\n",
    "    lot_f_nulls_nei = train['LotFrontage'].isnull() & (train['Neighborhood'] == key)\n",
    "    # fill in those blanks with the median of the key's group object\n",
    "    train_med.loc[lot_f_nulls_nei,'LotFrontage'] = group.median()"
   ]
  },
  {
   "cell_type": "code",
   "execution_count": 161,
   "metadata": {
    "collapsed": true
   },
   "outputs": [],
   "source": [
    "train_med = pd.get_dummies(train_med)"
   ]
  },
  {
   "cell_type": "code",
   "execution_count": 162,
   "metadata": {
    "collapsed": true
   },
   "outputs": [],
   "source": [
    "keep_cols = train_med.select_dtypes(include=['number']).columns\n",
    "train_med = train_med[keep_cols]"
   ]
  },
  {
   "cell_type": "code",
   "execution_count": 163,
   "metadata": {
    "collapsed": true
   },
   "outputs": [],
   "source": [
    "train_med = train_med.fillna(train_med.median())"
   ]
  },
  {
   "cell_type": "code",
   "execution_count": 164,
   "metadata": {
    "collapsed": true
   },
   "outputs": [],
   "source": [
    "#rf_test = RandomForestRegressor(max_depth=30, n_estimators=500, max_features = 100, oob_score=True, n_jobs=-1, random_state=1234)\n",
    "#cv_score = cross_val_score(rf_test, train_med.drop(['SalePrice','index'], axis = 1), train_med['SalePrice'], cv = 5, n_jobs=-1)"
   ]
  },
  {
   "cell_type": "code",
   "execution_count": 165,
   "metadata": {
    "collapsed": true
   },
   "outputs": [],
   "source": [
    "#print('CV Score is: '+ str(np.mean(cv_score)))"
   ]
  },
  {
   "cell_type": "code",
   "execution_count": 166,
   "metadata": {
    "collapsed": true
   },
   "outputs": [],
   "source": [
    "#rf_test.fit(train_med.drop('SalePrice',axis = 1),train_med['SalePrice'])"
   ]
  },
  {
   "cell_type": "code",
   "execution_count": 167,
   "metadata": {
    "collapsed": true
   },
   "outputs": [],
   "source": [
    "from xgboost.sklearn import XGBRegressor"
   ]
  },
  {
   "cell_type": "code",
   "execution_count": 168,
   "metadata": {},
   "outputs": [
    {
     "data": {
      "text/plain": [
       "array(['SubClass', 'LotFrontage', 'LotArea', 'OverallQual', 'OverallCond',\n",
       "       'YearBuilt', 'YearRemodel', 'MasVnrArea', 'BsmtFinSF1',\n",
       "       'BsmtFinSF2', 'BsmtUnfSF', 'TotalBsmtSF', 'FirstFlrSF',\n",
       "       'SecondFlrSF', 'LowQualFinSF', 'GrLivArea', 'BsmtFullBath',\n",
       "       'BsmtHalfBath', 'FullBath', 'HalfBath', 'BedroomAbvGr',\n",
       "       'KitchenAbvGr', 'TotRmsAbvGrd', 'Fireplaces', 'GarageYrBlt',\n",
       "       'GarageCars', 'GarageArea', 'WoodDeckSF', 'OpenPorchSF',\n",
       "       'EnclosedPorch', 'ThreeSsnPorch', 'ScreenPorch', 'PoolArea',\n",
       "       'MiscVal', 'MoSold', 'YrSold', 'SalePrice', 'index', 'Zoning_A',\n",
       "       'Zoning_C', 'Zoning_FV', 'Zoning_I', 'Zoning_RH', 'Zoning_RL',\n",
       "       'Zoning_RM', 'Street_Grvl', 'Street_Pave', 'Alley_Gr', 'Alley_Pa',\n",
       "       'LotShape_IR1', 'LotShape_IR2', 'LotShape_IR3', 'LotShape_Reg',\n",
       "       'LandContour_Bnk', 'LandContour_HLS', 'LandContour_Low',\n",
       "       'LandContour_Lvl', 'Utilities_AllPub', 'Utilities_NoSeWa',\n",
       "       'Utilities_NoSewr', 'LotConfig_Corner', 'LotConfig_CulDSac',\n",
       "       'LotConfig_FR2', 'LotConfig_FR3', 'LotConfig_Inside',\n",
       "       'LandSlope_Gtl', 'LandSlope_Mod', 'LandSlope_Sev',\n",
       "       'Neighborhood_Blmngtn', 'Neighborhood_Blueste',\n",
       "       'Neighborhood_BrDale', 'Neighborhood_BrkSide',\n",
       "       'Neighborhood_ClearCr', 'Neighborhood_CollgCr',\n",
       "       'Neighborhood_Crawfor', 'Neighborhood_Edwards',\n",
       "       'Neighborhood_Gilbert', 'Neighborhood_Greens',\n",
       "       'Neighborhood_GrnHill', 'Neighborhood_IDOTRR',\n",
       "       'Neighborhood_MeadowV', 'Neighborhood_Mitchel',\n",
       "       'Neighborhood_NAmes', 'Neighborhood_NPkVill', 'Neighborhood_NWAmes',\n",
       "       'Neighborhood_NoRidge', 'Neighborhood_NridgHt',\n",
       "       'Neighborhood_OldTown', 'Neighborhood_SWISU', 'Neighborhood_Sawyer',\n",
       "       'Neighborhood_SawyerW', 'Neighborhood_Somerst',\n",
       "       'Neighborhood_StoneBr', 'Neighborhood_Timber',\n",
       "       'Neighborhood_Veenker', 'Condition1_Arter', 'Condition1_Feedr',\n",
       "       'Condition1_Norm', 'Condition1_PosA', 'Condition1_PosN',\n",
       "       'Condition1_RRAe', 'Condition1_RRAn', 'Condition1_RRNe',\n",
       "       'Condition1_RRNn', 'Condition2_Arte', 'Condition2_Feed',\n",
       "       'Condition2_Norm', 'Condition2_PosA', 'Condition2_PosN',\n",
       "       'Condition2_RRAe', 'Condition2_RRAn', 'Condition2_RRNn',\n",
       "       'BldgType_1Fam', 'BldgType_2fmCon', 'BldgType_Duplex',\n",
       "       'BldgType_Twnhs', 'BldgType_TwnhsE', 'HouseStyle_1.5Fin',\n",
       "       'HouseStyle_1.5Unf', 'HouseStyle_1Story', 'HouseStyle_2.5Fin',\n",
       "       'HouseStyle_2.5Unf', 'HouseStyle_2Story', 'HouseStyle_SFoyer',\n",
       "       'HouseStyle_SLvl', 'RoofStyle_Flat', 'RoofStyle_Gable',\n",
       "       'RoofStyle_Gambr', 'RoofStyle_Hip', 'RoofStyle_Mansa',\n",
       "       'RoofStyle_Shed', 'RoofMat_ClyTile', 'RoofMat_CompShg',\n",
       "       'RoofMat_Metal', 'RoofMat_Tar&Grv', 'RoofMat_WdShake',\n",
       "       'RoofMat_WdShngl', 'Exterior1_AsbShng', 'Exterior1_AsphShn',\n",
       "       'Exterior1_BrkComm', 'Exterior1_BrkFace', 'Exterior1_CBlock',\n",
       "       'Exterior1_CemntBd', 'Exterior1_HdBoard', 'Exterior1_ImStucc',\n",
       "       'Exterior1_MetalSd', 'Exterior1_Plywood', 'Exterior1_PreCast',\n",
       "       'Exterior1_Stone', 'Exterior1_Stucco', 'Exterior1_VinylSd',\n",
       "       'Exterior1_Wd Sdng', 'Exterior1_WdShing', 'Exterior2_AsbShng',\n",
       "       'Exterior2_AsphShn', 'Exterior2_Brk Cmn', 'Exterior2_BrkFace',\n",
       "       'Exterior2_CBlock', 'Exterior2_CmentBd', 'Exterior2_HdBoard',\n",
       "       'Exterior2_ImStucc', 'Exterior2_MetalSd', 'Exterior2_Other',\n",
       "       'Exterior2_Plywood', 'Exterior2_PreCast', 'Exterior2_Stone',\n",
       "       'Exterior2_Stucco', 'Exterior2_VinylSd', 'Exterior2_Wd Sdng',\n",
       "       'Exterior2_Wd Shng', 'MasVnrType_BrkCmn', 'MasVnrType_BrkFace',\n",
       "       'MasVnrType_CBlock', 'MasVnrType_None', 'MasVnrType_Stone',\n",
       "       'ExterQual_Ex', 'ExterQual_Fa', 'ExterQual_Gd', 'ExterQual_TA',\n",
       "       'ExterCond_Ex', 'ExterCond_Fa', 'ExterCond_Gd', 'ExterCond_TA',\n",
       "       'Foundation_BrkTil', 'Foundation_CBlock', 'Foundation_PConc',\n",
       "       'Foundation_Slab', 'Foundation_Stone', 'Foundation_Wood',\n",
       "       'BsmtQual_Ex', 'BsmtQual_Fa', 'BsmtQual_Gd', 'BsmtQual_Po',\n",
       "       'BsmtQual_TA', 'BsmtCond_Ex', 'BsmtCond_Fa', 'BsmtCond_Gd',\n",
       "       'BsmtCond_Po', 'BsmtCond_TA', 'BsmtExposure_Av', 'BsmtExposure_Gd',\n",
       "       'BsmtExposure_Mn', 'BsmtExposure_No', 'BsmtFinType1_ALQ',\n",
       "       'BsmtFinType1_BLQ', 'BsmtFinType1_GLQ', 'BsmtFinType1_LwQ',\n",
       "       'BsmtFinType1_Rec', 'BsmtFinType1_Unf', 'BsmtFinType2_ALQ',\n",
       "       'BsmtFinType2_BLQ', 'BsmtFinType2_GLQ', 'BsmtFinType2_LwQ',\n",
       "       'BsmtFinType2_Rec', 'BsmtFinType2_Unf', 'Heating_Floo',\n",
       "       'Heating_GasA', 'Heating_GasW', 'Heating_Grav', 'Heating_OthW',\n",
       "       'Heating_Wall', 'HeatingQC_Ex', 'HeatingQC_Fa', 'HeatingQC_Gd',\n",
       "       'HeatingQC_Po', 'HeatingQC_TA', 'CentralAir_N', 'CentralAir_Y',\n",
       "       'Electrical_FuseA', 'Electrical_FuseF', 'Electrical_FuseP',\n",
       "       'Electrical_SBrkr', 'KitchenQual_Ex', 'KitchenQual_Fa',\n",
       "       'KitchenQual_Gd', 'KitchenQual_Po', 'KitchenQual_TA',\n",
       "       'Functional_Maj', 'Functional_Min', 'Functional_Mod',\n",
       "       'Functional_Sal', 'Functional_Sev', 'Functional_Typ',\n",
       "       'FireplaceQu_Ex', 'FireplaceQu_Fa', 'FireplaceQu_Gd',\n",
       "       'FireplaceQu_Po', 'FireplaceQu_TA', 'GarageType_2Types',\n",
       "       'GarageType_Attchd', 'GarageType_Basment', 'GarageType_BuiltIn',\n",
       "       'GarageType_CarPort', 'GarageType_Detchd', 'GarageFinish_Fin',\n",
       "       'GarageFinish_RFn', 'GarageFinish_Unf', 'GarageQual_Ex',\n",
       "       'GarageQual_Fa', 'GarageQual_Gd', 'GarageQual_Po', 'GarageQual_TA',\n",
       "       'GarageCond_Ex', 'GarageCond_Fa', 'GarageCond_Gd', 'GarageCond_Po',\n",
       "       'GarageCond_TA', 'PavedDrive_N', 'PavedDrive_P', 'PavedDrive_Y',\n",
       "       'PoolQC_Ex', 'PoolQC_Fa', 'PoolQC_Gd', 'PoolQC_TA', 'Fence_GdPrv',\n",
       "       'Fence_GdWo', 'Fence_MnPrv', 'Fence_MnWw', 'MiscFeature_Gar2',\n",
       "       'MiscFeature_Shed', 'SaleType_COD', 'SaleType_CWD', 'SaleType_Con',\n",
       "       'SaleType_New', 'SaleType_Oth', 'SaleType_WD',\n",
       "       'SaleCondition_Abnorml', 'SaleCondition_AdjLand',\n",
       "       'SaleCondition_Alloca', 'SaleCondition_Family',\n",
       "       'SaleCondition_Normal', 'SaleCondition_Partial'], dtype=object)"
      ]
     },
     "execution_count": 168,
     "metadata": {},
     "output_type": "execute_result"
    }
   ],
   "source": [
    "train_med.columns.values"
   ]
  },
  {
   "cell_type": "code",
   "execution_count": 169,
   "metadata": {
    "collapsed": true
   },
   "outputs": [],
   "source": [
    "#xgb_test = XGBRegressor(learning_rate=0.05,n_estimators=500,max_depth=3,colsample_bytree=0.4)\n",
    "#cv_score = cross_val_score(xgb_test, train_med.drop(['SalePrice','index'], axis = 1), train_med['SalePrice'], cv = 5, n_jobs = -1)"
   ]
  },
  {
   "cell_type": "code",
   "execution_count": 170,
   "metadata": {
    "collapsed": true
   },
   "outputs": [],
   "source": [
    "#print('CV Score is: '+ str(np.mean(cv_score)))"
   ]
  },
  {
   "cell_type": "code",
   "execution_count": 171,
   "metadata": {},
   "outputs": [
    {
     "name": "stdout",
     "output_type": "stream",
     "text": [
      "                            OLS Regression Results                            \n",
      "==============================================================================\n",
      "Dep. Variable:              SalePrice   R-squared:                       0.961\n",
      "Model:                            OLS   Adj. R-squared:                  0.961\n",
      "Method:                 Least Squares   F-statistic:                 1.007e+04\n",
      "Date:                Sun, 22 Oct 2017   Prob (F-statistic):               0.00\n",
      "Time:                        20:48:02   Log-Likelihood:                -24428.\n",
      "No. Observations:                2039   AIC:                         4.887e+04\n",
      "Df Residuals:                    2034   BIC:                         4.889e+04\n",
      "Df Model:                           5                                         \n",
      "Covariance Type:            nonrobust                                         \n",
      "===============================================================================\n",
      "                  coef    std err          t      P>|t|      [0.025      0.975]\n",
      "-------------------------------------------------------------------------------\n",
      "GrLivArea      45.4335      2.216     20.506      0.000      41.088      49.779\n",
      "OverallQual  2.897e+04    839.281     34.524      0.000    2.73e+04    3.06e+04\n",
      "YearBuilt     -54.6520      2.058    -26.561      0.000     -58.687     -50.617\n",
      "GarageArea     74.7570      4.955     15.086      0.000      65.039      84.475\n",
      "LotArea         0.8548      0.111      7.709      0.000       0.637       1.072\n",
      "==============================================================================\n",
      "Omnibus:                      494.674   Durbin-Watson:                   1.988\n",
      "Prob(Omnibus):                  0.000   Jarque-Bera (JB):            23456.429\n",
      "Skew:                           0.253   Prob(JB):                         0.00\n",
      "Kurtosis:                      19.608   Cond. No.                     1.28e+04\n",
      "==============================================================================\n",
      "\n",
      "Warnings:\n",
      "[1] Standard Errors assume that the covariance matrix of the errors is correctly specified.\n",
      "[2] The condition number is large, 1.28e+04. This might indicate that there are\n",
      "strong multicollinearity or other numerical problems.\n",
      "0       24318.276448\n",
      "1      251068.910468\n",
      "2      191846.524555\n",
      "3      262810.651033\n",
      "4      195374.087941\n",
      "5      243441.934703\n",
      "6       62989.394211\n",
      "7      115246.611852\n",
      "8      278908.774304\n",
      "9      101754.239184\n",
      "10      62364.546857\n",
      "11     154641.859650\n",
      "12     188388.551427\n",
      "13     270252.078714\n",
      "14     240821.638052\n",
      "15     277760.231669\n",
      "16     224205.210272\n",
      "17     245478.403170\n",
      "18     123470.176479\n",
      "19     118768.029368\n",
      "20     203701.676338\n",
      "21     286932.507887\n",
      "22     124943.796231\n",
      "23     227690.957440\n",
      "24     236848.609206\n",
      "25     142861.101304\n",
      "26     109670.036389\n",
      "27      92732.454946\n",
      "28     222532.898044\n",
      "29     198766.783645\n",
      "           ...      \n",
      "696    213761.584142\n",
      "697    208780.345375\n",
      "698    216600.686183\n",
      "699    271104.859974\n",
      "700    227675.252944\n",
      "701    138160.408418\n",
      "702    185470.199942\n",
      "703    145958.992283\n",
      "704    155179.566358\n",
      "705    286798.808076\n",
      "706    119648.296042\n",
      "707    221037.238175\n",
      "708    216969.754423\n",
      "709    126081.525829\n",
      "710    276301.648460\n",
      "711    136961.731927\n",
      "712    251096.308648\n",
      "713    164089.246301\n",
      "714    166860.109449\n",
      "715    136690.922936\n",
      "716    246921.856957\n",
      "717    324467.872398\n",
      "718    179283.808894\n",
      "719    145150.585788\n",
      "720    269641.704342\n",
      "721    222292.713457\n",
      "722    349026.529662\n",
      "723    195777.265372\n",
      "724    220090.511185\n",
      "725    169106.016365\n",
      "Length: 726, dtype: float64\n",
      "     index    p_saleprice\n",
      "0        1   24318.276448\n",
      "1        4  251068.910468\n",
      "2        7  191846.524555\n",
      "3       11  262810.651033\n",
      "4       13  195374.087941\n",
      "5       18  243441.934703\n",
      "6       20   62989.394211\n",
      "7       22  115246.611852\n",
      "8       26  278908.774304\n",
      "9       43  101754.239184\n",
      "10      44   62364.546857\n",
      "11      45  154641.859650\n",
      "12      46  188388.551427\n",
      "13      52  270252.078714\n",
      "14      53  240821.638052\n",
      "15      55  277760.231669\n",
      "16      58  224205.210272\n",
      "17      63  245478.403170\n",
      "18      66  123470.176479\n",
      "19      69  118768.029368\n",
      "20      74  203701.676338\n",
      "21      81  286932.507887\n",
      "22      85  124943.796231\n",
      "23      89  227690.957440\n",
      "24      92  236848.609206\n",
      "25      93  142861.101304\n",
      "26      97  109670.036389\n",
      "27     101   92732.454946\n",
      "28     102  222532.898044\n",
      "29     103  198766.783645\n",
      "..     ...            ...\n",
      "696   2805  213761.584142\n",
      "697   2806  208780.345375\n",
      "698   2811  216600.686183\n",
      "699   2812  271104.859974\n",
      "700   2817  227675.252944\n",
      "701   2821  138160.408418\n",
      "702   2822  185470.199942\n",
      "703   2828  145958.992283\n",
      "704   2829  155179.566358\n",
      "705   2842  286798.808076\n",
      "706   2846  119648.296042\n",
      "707   2854  221037.238175\n",
      "708   2857  216969.754423\n",
      "709   2861  126081.525829\n",
      "710   2862  276301.648460\n",
      "711   2866  136961.731927\n",
      "712   2868  251096.308648\n",
      "713   2870  164089.246301\n",
      "714   2873  166860.109449\n",
      "715   2878  136690.922936\n",
      "716   2883  246921.856957\n",
      "717   2885  324467.872398\n",
      "718   2886  179283.808894\n",
      "719   2900  145150.585788\n",
      "720   2903  269641.704342\n",
      "721   2912  222292.713457\n",
      "722   2914  349026.529662\n",
      "723   2919  195777.265372\n",
      "724   2923  220090.511185\n",
      "725   2924  169106.016365\n",
      "\n",
      "[726 rows x 2 columns]\n"
     ]
    }
   ],
   "source": [
    "import statsmodels.formula.api as smf \n",
    "X = train_med[['GrLivArea', 'OverallQual', 'YearBuilt', 'GarageArea','LotArea']]\n",
    "y = train_med['SalePrice']\n",
    "\n",
    "X_test = test_d[['GrLivArea', 'OverallQual', 'YearBuilt', 'GarageArea','LotArea']]\n",
    "\n",
    "## fit a OLS model with intercept\n",
    "model_1 = smf.OLS(y, X).fit()\n",
    "\n",
    "print(model_1.summary())\n",
    "\n",
    "#Convert the array predictions to a data frame then merge with the index for the test data to create your file\n",
    "test_predictions = model_1.predict(X_test)\n",
    "print(test_predictions)\n",
    "d = {'p_saleprice': test_predictions}\n",
    "df1 = test_d[['index']]\n",
    "df2=pd.DataFrame(data=d)\n",
    "your_file = pd.concat([df1,df2],axis = 1, join_axes=[df1.index])\n",
    "print(your_file)"
   ]
  },
  {
   "cell_type": "code",
   "execution_count": 172,
   "metadata": {},
   "outputs": [
    {
     "data": {
      "text/plain": [
       "<matplotlib.text.Text at 0x11182ea58>"
      ]
     },
     "execution_count": 172,
     "metadata": {},
     "output_type": "execute_result"
    },
    {
     "data": {
      "image/png": "[encoded data removed]",
      "text/plain": [
       "<matplotlib.figure.Figure at 0x112cdd860>"
      ]
     },
     "metadata": {},
     "output_type": "display_data"
    }
   ],
   "source": [
    "# Observed vs Fitted\n",
    "%matplotlib inline\n",
    "plt.scatter(train_med['SalePrice'], model_1.fittedvalues)\n",
    "plt.ylabel('Predicted SalePrice')\n",
    "plt.xlabel('Observed SalePrice')\n",
    "plt.title('Observed vs Predicted SalePrice')"
   ]
  },
  {
   "cell_type": "code",
   "execution_count": 173,
   "metadata": {
    "collapsed": true
   },
   "outputs": [],
   "source": [
    "has_rank = [col for col in train if 'TA' in list(train[col])]"
   ]
  },
  {
   "cell_type": "code",
   "execution_count": 174,
   "metadata": {
    "collapsed": true
   },
   "outputs": [],
   "source": [
    "dic_num = {'None': 0, 'Po': 1, 'Fa': 2, 'TA': 3, 'Gd': 4, 'Ex': 5}"
   ]
  },
  {
   "cell_type": "code",
   "execution_count": 175,
   "metadata": {
    "collapsed": true
   },
   "outputs": [],
   "source": [
    "train_c2n = train.copy()"
   ]
  },
  {
   "cell_type": "code",
   "execution_count": 176,
   "metadata": {
    "collapsed": true
   },
   "outputs": [],
   "source": [
    "train_c2n['SubClass'] = train_c2n['SubClass'].astype('category')"
   ]
  },
  {
   "cell_type": "code",
   "execution_count": 177,
   "metadata": {
    "collapsed": true
   },
   "outputs": [],
   "source": [
    "# for the key (the key is neighborhood in this case), and the group object (group is LotFrontage grouped by Neighborhood) \n",
    "# associated with it...\n",
    "for key,group in gb_neigh_LF:\n",
    "    # find where we are both simultaneously missing values and where the key exists\n",
    "    lot_f_nulls_nei = train['LotFrontage'].isnull() & (train['Neighborhood'] == key)\n",
    "    # fill in those blanks with the median of the key's group object\n",
    "    train_c2n.loc[lot_f_nulls_nei,'LotFrontage'] = group.median()"
   ]
  },
  {
   "cell_type": "code",
   "execution_count": 178,
   "metadata": {
    "collapsed": true
   },
   "outputs": [],
   "source": [
    "for col in has_rank:\n",
    "    train_c2n[col+'_2num'] = train_c2n[col].map(dic_num)"
   ]
  },
  {
   "cell_type": "code",
   "execution_count": 179,
   "metadata": {
    "collapsed": true
   },
   "outputs": [],
   "source": [
    "train_c2n = pd.get_dummies(train_c2n)"
   ]
  },
  {
   "cell_type": "code",
   "execution_count": 180,
   "metadata": {
    "collapsed": true
   },
   "outputs": [],
   "source": [
    "train_cols = train_c2n.select_dtypes(include=['number']).columns\n",
    "train_c2n = train_c2n[train_cols]"
   ]
  },
  {
   "cell_type": "code",
   "execution_count": 181,
   "metadata": {
    "collapsed": true
   },
   "outputs": [],
   "source": [
    "train_c2n = train_c2n.fillna(train_c2n.median())"
   ]
  },
  {
   "cell_type": "code",
   "execution_count": 182,
   "metadata": {
    "collapsed": true
   },
   "outputs": [],
   "source": [
    "#xgb_test = XGBRegressor(learning_rate=0.05,n_estimators=500,max_depth=3,colsample_bytree=0.4)\n",
    "#cv_score = cross_val_score(xgb_test, train_c2n.drop(['SalePrice','index'], axis = 1), train_c2n['SalePrice'], cv = 5, n_jobs=-1)"
   ]
  },
  {
   "cell_type": "code",
   "execution_count": 183,
   "metadata": {
    "collapsed": true
   },
   "outputs": [],
   "source": [
    "#print('CV Score is: '+ str(np.mean(cv_score)))"
   ]
  },
  {
   "cell_type": "code",
   "execution_count": 184,
   "metadata": {},
   "outputs": [
    {
     "name": "stdout",
     "output_type": "stream",
     "text": [
      "                            OLS Regression Results                            \n",
      "==============================================================================\n",
      "Dep. Variable:              SalePrice   R-squared:                       0.961\n",
      "Model:                            OLS   Adj. R-squared:                  0.961\n",
      "Method:                 Least Squares   F-statistic:                 1.007e+04\n",
      "Date:                Sun, 22 Oct 2017   Prob (F-statistic):               0.00\n",
      "Time:                        20:48:03   Log-Likelihood:                -24428.\n",
      "No. Observations:                2039   AIC:                         4.887e+04\n",
      "Df Residuals:                    2034   BIC:                         4.889e+04\n",
      "Df Model:                           5                                         \n",
      "Covariance Type:            nonrobust                                         \n",
      "===============================================================================\n",
      "                  coef    std err          t      P>|t|      [0.025      0.975]\n",
      "-------------------------------------------------------------------------------\n",
      "GrLivArea      45.4335      2.216     20.506      0.000      41.088      49.779\n",
      "OverallQual  2.897e+04    839.281     34.524      0.000    2.73e+04    3.06e+04\n",
      "YearBuilt     -54.6520      2.058    -26.561      0.000     -58.687     -50.617\n",
      "GarageArea     74.7570      4.955     15.086      0.000      65.039      84.475\n",
      "LotArea         0.8548      0.111      7.709      0.000       0.637       1.072\n",
      "==============================================================================\n",
      "Omnibus:                      494.674   Durbin-Watson:                   1.988\n",
      "Prob(Omnibus):                  0.000   Jarque-Bera (JB):            23456.429\n",
      "Skew:                           0.253   Prob(JB):                         0.00\n",
      "Kurtosis:                      19.608   Cond. No.                     1.28e+04\n",
      "==============================================================================\n",
      "\n",
      "Warnings:\n",
      "[1] Standard Errors assume that the covariance matrix of the errors is correctly specified.\n",
      "[2] The condition number is large, 1.28e+04. This might indicate that there are\n",
      "strong multicollinearity or other numerical problems.\n",
      "0       24318.276448\n",
      "1      251068.910468\n",
      "2      191846.524555\n",
      "3      262810.651033\n",
      "4      195374.087941\n",
      "5      243441.934703\n",
      "6       62989.394211\n",
      "7      115246.611852\n",
      "8      278908.774304\n",
      "9      101754.239184\n",
      "10      62364.546857\n",
      "11     154641.859650\n",
      "12     188388.551427\n",
      "13     270252.078714\n",
      "14     240821.638052\n",
      "15     277760.231669\n",
      "16     224205.210272\n",
      "17     245478.403170\n",
      "18     123470.176479\n",
      "19     118768.029368\n",
      "20     203701.676338\n",
      "21     286932.507887\n",
      "22     124943.796231\n",
      "23     227690.957440\n",
      "24     236848.609206\n",
      "25     142861.101304\n",
      "26     109670.036389\n",
      "27      92732.454946\n",
      "28     222532.898044\n",
      "29     198766.783645\n",
      "           ...      \n",
      "696    213761.584142\n",
      "697    208780.345375\n",
      "698    216600.686183\n",
      "699    271104.859974\n",
      "700    227675.252944\n",
      "701    138160.408418\n",
      "702    185470.199942\n",
      "703    145958.992283\n",
      "704    155179.566358\n",
      "705    286798.808076\n",
      "706    119648.296042\n",
      "707    221037.238175\n",
      "708    216969.754423\n",
      "709    126081.525829\n",
      "710    276301.648460\n",
      "711    136961.731927\n",
      "712    251096.308648\n",
      "713    164089.246301\n",
      "714    166860.109449\n",
      "715    136690.922936\n",
      "716    246921.856957\n",
      "717    324467.872398\n",
      "718    179283.808894\n",
      "719    145150.585788\n",
      "720    269641.704342\n",
      "721    222292.713457\n",
      "722    349026.529662\n",
      "723    195777.265372\n",
      "724    220090.511185\n",
      "725    169106.016365\n",
      "Length: 726, dtype: float64\n",
      "     index    p_saleprice\n",
      "0        1   24318.276448\n",
      "1        4  251068.910468\n",
      "2        7  191846.524555\n",
      "3       11  262810.651033\n",
      "4       13  195374.087941\n",
      "5       18  243441.934703\n",
      "6       20   62989.394211\n",
      "7       22  115246.611852\n",
      "8       26  278908.774304\n",
      "9       43  101754.239184\n",
      "10      44   62364.546857\n",
      "11      45  154641.859650\n",
      "12      46  188388.551427\n",
      "13      52  270252.078714\n",
      "14      53  240821.638052\n",
      "15      55  277760.231669\n",
      "16      58  224205.210272\n",
      "17      63  245478.403170\n",
      "18      66  123470.176479\n",
      "19      69  118768.029368\n",
      "20      74  203701.676338\n",
      "21      81  286932.507887\n",
      "22      85  124943.796231\n",
      "23      89  227690.957440\n",
      "24      92  236848.609206\n",
      "25      93  142861.101304\n",
      "26      97  109670.036389\n",
      "27     101   92732.454946\n",
      "28     102  222532.898044\n",
      "29     103  198766.783645\n",
      "..     ...            ...\n",
      "696   2805  213761.584142\n",
      "697   2806  208780.345375\n",
      "698   2811  216600.686183\n",
      "699   2812  271104.859974\n",
      "700   2817  227675.252944\n",
      "701   2821  138160.408418\n",
      "702   2822  185470.199942\n",
      "703   2828  145958.992283\n",
      "704   2829  155179.566358\n",
      "705   2842  286798.808076\n",
      "706   2846  119648.296042\n",
      "707   2854  221037.238175\n",
      "708   2857  216969.754423\n",
      "709   2861  126081.525829\n",
      "710   2862  276301.648460\n",
      "711   2866  136961.731927\n",
      "712   2868  251096.308648\n",
      "713   2870  164089.246301\n",
      "714   2873  166860.109449\n",
      "715   2878  136690.922936\n",
      "716   2883  246921.856957\n",
      "717   2885  324467.872398\n",
      "718   2886  179283.808894\n",
      "719   2900  145150.585788\n",
      "720   2903  269641.704342\n",
      "721   2912  222292.713457\n",
      "722   2914  349026.529662\n",
      "723   2919  195777.265372\n",
      "724   2923  220090.511185\n",
      "725   2924  169106.016365\n",
      "\n",
      "[726 rows x 2 columns]\n"
     ]
    }
   ],
   "source": [
    "X = train_c2n[['GrLivArea', 'OverallQual', 'YearBuilt', 'GarageArea','LotArea']]\n",
    "y = train_c2n['SalePrice']\n",
    "\n",
    "X_test = test_d[['GrLivArea', 'OverallQual', 'YearBuilt', 'GarageArea','LotArea']]\n",
    "\n",
    "## fit a OLS model with intercept\n",
    "model_2 = smf.OLS(y, X).fit()\n",
    "\n",
    "print(model_2.summary())\n",
    "\n",
    "#Convert the array predictions to a data frame then merge with the index for the test data to create your file\n",
    "test_predictions = model_2.predict(X_test)\n",
    "print(test_predictions)\n",
    "d = {'p_saleprice': test_predictions}\n",
    "df1 = test_d[['index']]\n",
    "df2=pd.DataFrame(data=d)\n",
    "your_file = pd.concat([df1,df2],axis = 1, join_axes=[df1.index])\n",
    "print(your_file)"
   ]
  },
  {
   "cell_type": "code",
   "execution_count": 185,
   "metadata": {},
   "outputs": [
    {
     "data": {
      "text/plain": [
       "<matplotlib.text.Text at 0x112571048>"
      ]
     },
     "execution_count": 185,
     "metadata": {},
     "output_type": "execute_result"
    },
    {
     "data": {
      "image/png": "[encoded data removed]",
      "text/plain": [
       "<matplotlib.figure.Figure at 0x112b81550>"
      ]
     },
     "metadata": {},
     "output_type": "display_data"
    }
   ],
   "source": [
    "# Observed vs Fitted\n",
    "%matplotlib inline\n",
    "plt.scatter(train_c2n['SalePrice'], model_2.fittedvalues)\n",
    "plt.ylabel('Predicted SalePrice')\n",
    "plt.xlabel('Observed SalePrice')\n",
    "plt.title('Observed vs Predicted SalePrice')"
   ]
  },
  {
   "cell_type": "code",
   "execution_count": 186,
   "metadata": {
    "collapsed": true
   },
   "outputs": [],
   "source": [
    "from statistics import mode"
   ]
  },
  {
   "cell_type": "code",
   "execution_count": 187,
   "metadata": {},
   "outputs": [
    {
     "data": {
      "text/plain": [
       "['Street', 'Utilities', 'Condition2', 'RoofMat', 'Heating']"
      ]
     },
     "execution_count": 187,
     "metadata": {},
     "output_type": "execute_result"
    }
   ],
   "source": [
    "low_var_cat = [col for col in train.select_dtypes(exclude=['number']) if 1 - sum(train[col] == mode(train[col]))/len(train) < 0.03]\n",
    "low_var_cat"
   ]
  },
  {
   "cell_type": "code",
   "execution_count": 188,
   "metadata": {
    "collapsed": true
   },
   "outputs": [],
   "source": [
    "has_rank = [col for col in train if 'TA' in list(train[col])]"
   ]
  },
  {
   "cell_type": "code",
   "execution_count": 189,
   "metadata": {
    "collapsed": true
   },
   "outputs": [],
   "source": [
    "dic_num = {'None': 0, 'Po': 1, 'Fa': 2, 'TA': 3, 'Gd': 4, 'Ex': 5}"
   ]
  },
  {
   "cell_type": "code",
   "execution_count": 190,
   "metadata": {
    "collapsed": true
   },
   "outputs": [],
   "source": [
    "train_col = train.copy()"
   ]
  },
  {
   "cell_type": "code",
   "execution_count": 191,
   "metadata": {
    "collapsed": true
   },
   "outputs": [],
   "source": [
    "train_col = train_col.drop(['Street', 'Utilities', 'Condition2', 'RoofMat', 'Heating'], axis = 1)"
   ]
  },
  {
   "cell_type": "code",
   "execution_count": 192,
   "metadata": {},
   "outputs": [
    {
     "data": {
      "text/plain": [
       "Index(['SubClass', 'Zoning', 'LotFrontage', 'LotArea', 'Alley', 'LotShape',\n",
       "       'LandContour', 'LotConfig', 'LandSlope', 'Neighborhood', 'Condition1',\n",
       "       'BldgType', 'HouseStyle', 'OverallQual', 'OverallCond', 'YearBuilt',\n",
       "       'YearRemodel', 'RoofStyle', 'Exterior1', 'Exterior2', 'MasVnrType',\n",
       "       'MasVnrArea', 'ExterQual', 'ExterCond', 'Foundation', 'BsmtQual',\n",
       "       'BsmtCond', 'BsmtExposure', 'BsmtFinType1', 'BsmtFinSF1',\n",
       "       'BsmtFinType2', 'BsmtFinSF2', 'BsmtUnfSF', 'TotalBsmtSF', 'HeatingQC',\n",
       "       'CentralAir', 'Electrical', 'FirstFlrSF', 'SecondFlrSF', 'LowQualFinSF',\n",
       "       'GrLivArea', 'BsmtFullBath', 'BsmtHalfBath', 'FullBath', 'HalfBath',\n",
       "       'BedroomAbvGr', 'KitchenAbvGr', 'KitchenQual', 'TotRmsAbvGrd',\n",
       "       'Functional', 'Fireplaces', 'FireplaceQu', 'GarageType', 'GarageYrBlt',\n",
       "       'GarageFinish', 'GarageCars', 'GarageArea', 'GarageQual', 'GarageCond',\n",
       "       'PavedDrive', 'WoodDeckSF', 'OpenPorchSF', 'EnclosedPorch',\n",
       "       'ThreeSsnPorch', 'ScreenPorch', 'PoolArea', 'PoolQC', 'Fence',\n",
       "       'MiscFeature', 'MiscVal', 'MoSold', 'YrSold', 'SaleType',\n",
       "       'SaleCondition', 'SalePrice', 'index'],\n",
       "      dtype='object')"
      ]
     },
     "execution_count": 192,
     "metadata": {},
     "output_type": "execute_result"
    }
   ],
   "source": [
    "train_col.columns"
   ]
  },
  {
   "cell_type": "code",
   "execution_count": 193,
   "metadata": {
    "collapsed": true
   },
   "outputs": [],
   "source": [
    "train_col['SubClass'] = train_col['SubClass'].astype('category')"
   ]
  },
  {
   "cell_type": "code",
   "execution_count": 194,
   "metadata": {
    "collapsed": true
   },
   "outputs": [],
   "source": [
    "# for the key (the key is neighborhood in this case), and the group object (group is LotFrontage grouped by Neighborhood) \n",
    "# associated with it...\n",
    "for key,group in gb_neigh_LF:\n",
    "    # find where we are both simultaneously missing values and where the key exists\n",
    "    lot_f_nulls_nei = train['LotFrontage'].isnull() & (train['Neighborhood'] == key)\n",
    "    # fill in those blanks with the median of the key's group object\n",
    "    train_col.loc[lot_f_nulls_nei,'LotFrontage'] = group.median()"
   ]
  },
  {
   "cell_type": "code",
   "execution_count": 195,
   "metadata": {
    "collapsed": true
   },
   "outputs": [],
   "source": [
    "for col in has_rank:\n",
    "    train_col[col+'_2num'] = train_col[col].map(dic_num)"
   ]
  },
  {
   "cell_type": "code",
   "execution_count": 196,
   "metadata": {
    "collapsed": true
   },
   "outputs": [],
   "source": [
    "train_col = pd.get_dummies(train_col)"
   ]
  },
  {
   "cell_type": "code",
   "execution_count": 197,
   "metadata": {
    "collapsed": true
   },
   "outputs": [],
   "source": [
    "train_cols = train_col.select_dtypes(include=['number']).columns\n",
    "train_col = train_col[train_cols]"
   ]
  },
  {
   "cell_type": "code",
   "execution_count": 198,
   "metadata": {
    "collapsed": true
   },
   "outputs": [],
   "source": [
    "train_col = train_col.fillna(train_col.median())"
   ]
  },
  {
   "cell_type": "code",
   "execution_count": 199,
   "metadata": {
    "collapsed": true
   },
   "outputs": [],
   "source": [
    "#xgb_test = XGBRegressor(learning_rate=0.05,n_estimators=500,max_depth=3,colsample_bytree=0.4)\n",
    "#cv_score = cross_val_score(xgb_test, train_col.drop(['SalePrice','index'], axis = 1), train_col['SalePrice'], cv = 5, n_jobs=-1)"
   ]
  },
  {
   "cell_type": "code",
   "execution_count": 200,
   "metadata": {
    "collapsed": true
   },
   "outputs": [],
   "source": [
    "#print('CV Score is: '+ str(np.mean(cv_score)))"
   ]
  },
  {
   "cell_type": "code",
   "execution_count": 201,
   "metadata": {},
   "outputs": [
    {
     "name": "stdout",
     "output_type": "stream",
     "text": [
      "                            OLS Regression Results                            \n",
      "==============================================================================\n",
      "Dep. Variable:              SalePrice   R-squared:                       0.961\n",
      "Model:                            OLS   Adj. R-squared:                  0.961\n",
      "Method:                 Least Squares   F-statistic:                 1.007e+04\n",
      "Date:                Sun, 22 Oct 2017   Prob (F-statistic):               0.00\n",
      "Time:                        20:48:05   Log-Likelihood:                -24428.\n",
      "No. Observations:                2039   AIC:                         4.887e+04\n",
      "Df Residuals:                    2034   BIC:                         4.889e+04\n",
      "Df Model:                           5                                         \n",
      "Covariance Type:            nonrobust                                         \n",
      "===============================================================================\n",
      "                  coef    std err          t      P>|t|      [0.025      0.975]\n",
      "-------------------------------------------------------------------------------\n",
      "GrLivArea      45.4335      2.216     20.506      0.000      41.088      49.779\n",
      "OverallQual  2.897e+04    839.281     34.524      0.000    2.73e+04    3.06e+04\n",
      "YearBuilt     -54.6520      2.058    -26.561      0.000     -58.687     -50.617\n",
      "GarageArea     74.7570      4.955     15.086      0.000      65.039      84.475\n",
      "LotArea         0.8548      0.111      7.709      0.000       0.637       1.072\n",
      "==============================================================================\n",
      "Omnibus:                      494.674   Durbin-Watson:                   1.988\n",
      "Prob(Omnibus):                  0.000   Jarque-Bera (JB):            23456.429\n",
      "Skew:                           0.253   Prob(JB):                         0.00\n",
      "Kurtosis:                      19.608   Cond. No.                     1.28e+04\n",
      "==============================================================================\n",
      "\n",
      "Warnings:\n",
      "[1] Standard Errors assume that the covariance matrix of the errors is correctly specified.\n",
      "[2] The condition number is large, 1.28e+04. This might indicate that there are\n",
      "strong multicollinearity or other numerical problems.\n",
      "0       24318.276448\n",
      "1      251068.910468\n",
      "2      191846.524555\n",
      "3      262810.651033\n",
      "4      195374.087941\n",
      "5      243441.934703\n",
      "6       62989.394211\n",
      "7      115246.611852\n",
      "8      278908.774304\n",
      "9      101754.239184\n",
      "10      62364.546857\n",
      "11     154641.859650\n",
      "12     188388.551427\n",
      "13     270252.078714\n",
      "14     240821.638052\n",
      "15     277760.231669\n",
      "16     224205.210272\n",
      "17     245478.403170\n",
      "18     123470.176479\n",
      "19     118768.029368\n",
      "20     203701.676338\n",
      "21     286932.507887\n",
      "22     124943.796231\n",
      "23     227690.957440\n",
      "24     236848.609206\n",
      "25     142861.101304\n",
      "26     109670.036389\n",
      "27      92732.454946\n",
      "28     222532.898044\n",
      "29     198766.783645\n",
      "           ...      \n",
      "696    213761.584142\n",
      "697    208780.345375\n",
      "698    216600.686183\n",
      "699    271104.859974\n",
      "700    227675.252944\n",
      "701    138160.408418\n",
      "702    185470.199942\n",
      "703    145958.992283\n",
      "704    155179.566358\n",
      "705    286798.808076\n",
      "706    119648.296042\n",
      "707    221037.238175\n",
      "708    216969.754423\n",
      "709    126081.525829\n",
      "710    276301.648460\n",
      "711    136961.731927\n",
      "712    251096.308648\n",
      "713    164089.246301\n",
      "714    166860.109449\n",
      "715    136690.922936\n",
      "716    246921.856957\n",
      "717    324467.872398\n",
      "718    179283.808894\n",
      "719    145150.585788\n",
      "720    269641.704342\n",
      "721    222292.713457\n",
      "722    349026.529662\n",
      "723    195777.265372\n",
      "724    220090.511185\n",
      "725    169106.016365\n",
      "Length: 726, dtype: float64\n",
      "     index    p_saleprice\n",
      "0        1   24318.276448\n",
      "1        4  251068.910468\n",
      "2        7  191846.524555\n",
      "3       11  262810.651033\n",
      "4       13  195374.087941\n",
      "5       18  243441.934703\n",
      "6       20   62989.394211\n",
      "7       22  115246.611852\n",
      "8       26  278908.774304\n",
      "9       43  101754.239184\n",
      "10      44   62364.546857\n",
      "11      45  154641.859650\n",
      "12      46  188388.551427\n",
      "13      52  270252.078714\n",
      "14      53  240821.638052\n",
      "15      55  277760.231669\n",
      "16      58  224205.210272\n",
      "17      63  245478.403170\n",
      "18      66  123470.176479\n",
      "19      69  118768.029368\n",
      "20      74  203701.676338\n",
      "21      81  286932.507887\n",
      "22      85  124943.796231\n",
      "23      89  227690.957440\n",
      "24      92  236848.609206\n",
      "25      93  142861.101304\n",
      "26      97  109670.036389\n",
      "27     101   92732.454946\n",
      "28     102  222532.898044\n",
      "29     103  198766.783645\n",
      "..     ...            ...\n",
      "696   2805  213761.584142\n",
      "697   2806  208780.345375\n",
      "698   2811  216600.686183\n",
      "699   2812  271104.859974\n",
      "700   2817  227675.252944\n",
      "701   2821  138160.408418\n",
      "702   2822  185470.199942\n",
      "703   2828  145958.992283\n",
      "704   2829  155179.566358\n",
      "705   2842  286798.808076\n",
      "706   2846  119648.296042\n",
      "707   2854  221037.238175\n",
      "708   2857  216969.754423\n",
      "709   2861  126081.525829\n",
      "710   2862  276301.648460\n",
      "711   2866  136961.731927\n",
      "712   2868  251096.308648\n",
      "713   2870  164089.246301\n",
      "714   2873  166860.109449\n",
      "715   2878  136690.922936\n",
      "716   2883  246921.856957\n",
      "717   2885  324467.872398\n",
      "718   2886  179283.808894\n",
      "719   2900  145150.585788\n",
      "720   2903  269641.704342\n",
      "721   2912  222292.713457\n",
      "722   2914  349026.529662\n",
      "723   2919  195777.265372\n",
      "724   2923  220090.511185\n",
      "725   2924  169106.016365\n",
      "\n",
      "[726 rows x 2 columns]\n"
     ]
    }
   ],
   "source": [
    "X = train_col[['GrLivArea', 'OverallQual', 'YearBuilt', 'GarageArea','LotArea']]\n",
    "y = train_col['SalePrice']\n",
    "\n",
    "X_test = test_d[['GrLivArea', 'OverallQual', 'YearBuilt', 'GarageArea','LotArea']]\n",
    "\n",
    "## fit a OLS model with intercept\n",
    "model_3 = smf.OLS(y, X).fit()\n",
    "\n",
    "print(model_3.summary())\n",
    "\n",
    "#Convert the array predictions to a data frame then merge with the index for the test data to create your file\n",
    "test_predictions = model_3.predict(X_test)\n",
    "print(test_predictions)\n",
    "d = {'p_saleprice': test_predictions}\n",
    "df1 = test_d[['index']]\n",
    "df2=pd.DataFrame(data=d)\n",
    "your_file = pd.concat([df1,df2],axis = 1, join_axes=[df1.index])\n",
    "print(your_file)"
   ]
  },
  {
   "cell_type": "code",
   "execution_count": 202,
   "metadata": {},
   "outputs": [
    {
     "data": {
      "text/plain": [
       "<matplotlib.text.Text at 0x112661b38>"
      ]
     },
     "execution_count": 202,
     "metadata": {},
     "output_type": "execute_result"
    },
    {
     "data": {
      "image/png": "[encoded data removed]",
      "text/plain": [
       "<matplotlib.figure.Figure at 0x112174668>"
      ]
     },
     "metadata": {},
     "output_type": "display_data"
    }
   ],
   "source": [
    "# Observed vs Fitted\n",
    "%matplotlib inline\n",
    "plt.scatter(train_col['SalePrice'], model_3.fittedvalues)\n",
    "plt.ylabel('Predicted SalePrice')\n",
    "plt.xlabel('Observed SalePrice')\n",
    "plt.title('Observed vs Predicted SalePrice')"
   ]
  },
  {
   "cell_type": "code",
   "execution_count": 203,
   "metadata": {},
   "outputs": [
    {
     "data": {
      "text/plain": [
       "['Alley',\n",
       " 'MasVnrType',\n",
       " 'BsmtQual',\n",
       " 'BsmtCond',\n",
       " 'BsmtExposure',\n",
       " 'BsmtFinType1',\n",
       " 'BsmtFinType2',\n",
       " 'Electrical',\n",
       " 'FireplaceQu',\n",
       " 'GarageType',\n",
       " 'GarageFinish',\n",
       " 'GarageQual',\n",
       " 'GarageCond',\n",
       " 'PoolQC',\n",
       " 'Fence',\n",
       " 'MiscFeature']"
      ]
     },
     "execution_count": 203,
     "metadata": {},
     "output_type": "execute_result"
    }
   ],
   "source": [
    "cat_hasnull = [col for col in train.select_dtypes(['object']) if train[col].isnull().any()]\n",
    "cat_hasnull"
   ]
  },
  {
   "cell_type": "code",
   "execution_count": 204,
   "metadata": {
    "collapsed": true
   },
   "outputs": [],
   "source": [
    "cat_hasnull.remove('Electrical')"
   ]
  },
  {
   "cell_type": "code",
   "execution_count": 205,
   "metadata": {},
   "outputs": [
    {
     "data": {
      "text/plain": [
       "'SBrkr'"
      ]
     },
     "execution_count": 205,
     "metadata": {},
     "output_type": "execute_result"
    }
   ],
   "source": [
    "mode_elec = mode(train['Electrical'])\n",
    "mode_elec"
   ]
  },
  {
   "cell_type": "code",
   "execution_count": 206,
   "metadata": {
    "collapsed": true
   },
   "outputs": [],
   "source": [
    "has_rank = [col for col in train if 'TA' in list(train[col])]"
   ]
  },
  {
   "cell_type": "code",
   "execution_count": 207,
   "metadata": {
    "collapsed": true
   },
   "outputs": [],
   "source": [
    "dic_num = {'None': 0, 'Po': 1, 'Fa': 2, 'TA': 3, 'Gd': 4, 'Ex': 5}"
   ]
  },
  {
   "cell_type": "code",
   "execution_count": 208,
   "metadata": {
    "collapsed": true
   },
   "outputs": [],
   "source": [
    "cat_hasnull = [col for col in train.select_dtypes(['object']) if train[col].isnull().any()]"
   ]
  },
  {
   "cell_type": "code",
   "execution_count": 209,
   "metadata": {
    "collapsed": true
   },
   "outputs": [],
   "source": [
    "cat_hasnull.remove('Electrical')"
   ]
  },
  {
   "cell_type": "code",
   "execution_count": 210,
   "metadata": {
    "collapsed": true
   },
   "outputs": [],
   "source": [
    "train_none = train.copy()"
   ]
  },
  {
   "cell_type": "code",
   "execution_count": 211,
   "metadata": {
    "collapsed": true
   },
   "outputs": [],
   "source": [
    "train_none = train_none.drop(['Street', 'Utilities', 'Condition2', 'RoofMat', 'Heating'], axis = 1)"
   ]
  },
  {
   "cell_type": "code",
   "execution_count": 212,
   "metadata": {
    "collapsed": true
   },
   "outputs": [],
   "source": [
    "train_none['SubClass'] = train_none['SubClass'].astype('category')"
   ]
  },
  {
   "cell_type": "code",
   "execution_count": 213,
   "metadata": {
    "collapsed": true
   },
   "outputs": [],
   "source": [
    "for col in cat_hasnull:\n",
    "    null_idx = train_none[col].isnull()\n",
    "    train_none.loc[null_idx, col] = 'None'"
   ]
  },
  {
   "cell_type": "code",
   "execution_count": 214,
   "metadata": {
    "collapsed": true
   },
   "outputs": [],
   "source": [
    "null_idx_el = train_none['Electrical'].isnull()\n",
    "train_none.loc[null_idx_el, 'Electrical'] = 'SBrkr'"
   ]
  },
  {
   "cell_type": "code",
   "execution_count": 215,
   "metadata": {
    "collapsed": true
   },
   "outputs": [],
   "source": [
    "# for the key (the key is neighborhood in this case), and the group object (group is LotFrontage grouped by Neighborhood) \n",
    "# associated with it...\n",
    "for key,group in gb_neigh_LF:\n",
    "    # find where we are both simultaneously missing values and where the key exists\n",
    "    lot_f_nulls_nei = train['LotFrontage'].isnull() & (train['Neighborhood'] == key)\n",
    "    # fill in those blanks with the median of the key's group object\n",
    "    train_none.loc[lot_f_nulls_nei,'LotFrontage'] = group.median()"
   ]
  },
  {
   "cell_type": "code",
   "execution_count": 216,
   "metadata": {
    "collapsed": true
   },
   "outputs": [],
   "source": [
    "for col in has_rank:\n",
    "    train_none[col+'_2num'] = train_none[col].map(dic_num)"
   ]
  },
  {
   "cell_type": "code",
   "execution_count": 217,
   "metadata": {
    "collapsed": true
   },
   "outputs": [],
   "source": [
    "train_none = pd.get_dummies(train_none)"
   ]
  },
  {
   "cell_type": "code",
   "execution_count": 218,
   "metadata": {
    "collapsed": true
   },
   "outputs": [],
   "source": [
    "train_cols = train_none.select_dtypes(include=['number']).columns\n",
    "train_none = train_none[train_cols]"
   ]
  },
  {
   "cell_type": "code",
   "execution_count": 219,
   "metadata": {
    "collapsed": true
   },
   "outputs": [],
   "source": [
    "train_none = train_none.fillna(train_none.median())"
   ]
  },
  {
   "cell_type": "code",
   "execution_count": 220,
   "metadata": {
    "collapsed": true
   },
   "outputs": [],
   "source": [
    "#xgb_test = XGBRegressor(learning_rate=0.05,n_estimators=500,max_depth=3,colsample_bytree=0.4)\n",
    "#cv_score = cross_val_score(xgb_test, train_none.drop(['SalePrice','index'], axis = 1), train_none['SalePrice'], cv = 5, n_jobs=-1)"
   ]
  },
  {
   "cell_type": "code",
   "execution_count": 221,
   "metadata": {
    "collapsed": true
   },
   "outputs": [],
   "source": [
    "#print('CV Score is: '+ str(np.mean(cv_score)))"
   ]
  },
  {
   "cell_type": "code",
   "execution_count": 222,
   "metadata": {
    "scrolled": false
   },
   "outputs": [
    {
     "name": "stdout",
     "output_type": "stream",
     "text": [
      "                            OLS Regression Results                            \n",
      "==============================================================================\n",
      "Dep. Variable:              SalePrice   R-squared:                       0.964\n",
      "Model:                            OLS   Adj. R-squared:                  0.964\n",
      "Method:                 Least Squares   F-statistic:                     9128.\n",
      "Date:                Sun, 22 Oct 2017   Prob (F-statistic):               0.00\n",
      "Time:                        20:48:06   Log-Likelihood:                -24345.\n",
      "No. Observations:                2039   AIC:                         4.870e+04\n",
      "Df Residuals:                    2033   BIC:                         4.874e+04\n",
      "Df Model:                           6                                         \n",
      "Covariance Type:            nonrobust                                         \n",
      "===============================================================================\n",
      "                  coef    std err          t      P>|t|      [0.025      0.975]\n",
      "-------------------------------------------------------------------------------\n",
      "GrLivArea      42.7649      2.137     20.009      0.000      38.573      46.957\n",
      "OverallQual  2.566e+04    844.446     30.392      0.000     2.4e+04    2.73e+04\n",
      "YearBuilt     -54.5235      1.976    -27.593      0.000     -58.399     -50.648\n",
      "GarageArea     60.9069      4.874     12.496      0.000      51.348      70.466\n",
      "LotArea         0.6116      0.108      5.659      0.000       0.400       0.824\n",
      "TotalBsmtSF    31.3711      2.388     13.138      0.000      26.688      36.054\n",
      "==============================================================================\n",
      "Omnibus:                      807.652   Durbin-Watson:                   1.987\n",
      "Prob(Omnibus):                  0.000   Jarque-Bera (JB):            86969.703\n",
      "Skew:                          -0.872   Prob(JB):                         0.00\n",
      "Kurtosis:                      34.947   Cond. No.                     1.35e+04\n",
      "==============================================================================\n",
      "\n",
      "Warnings:\n",
      "[1] Standard Errors assume that the covariance matrix of the errors is correctly specified.\n",
      "[2] The condition number is large, 1.35e+04. This might indicate that there are\n",
      "strong multicollinearity or other numerical problems.\n",
      "0        9683.197943\n",
      "1      268402.606077\n",
      "2      184614.488075\n",
      "3      265811.096049\n",
      "4      201417.704397\n",
      "5      236669.980367\n",
      "6       60155.950725\n",
      "7      122990.321732\n",
      "8      268394.695449\n",
      "9      113992.021884\n",
      "10      64160.635418\n",
      "11     160080.271203\n",
      "12     181050.181206\n",
      "13     276664.452130\n",
      "14     236620.809989\n",
      "15     255719.726746\n",
      "16     225502.420572\n",
      "17     269166.480181\n",
      "18      96802.484389\n",
      "19     117310.026058\n",
      "20     203753.801118\n",
      "21     323305.088667\n",
      "22     120282.742174\n",
      "23     225727.825121\n",
      "24     238971.957087\n",
      "25     134339.528544\n",
      "26     110547.087255\n",
      "27     105523.493336\n",
      "28     211921.624164\n",
      "29     211856.476142\n",
      "           ...      \n",
      "696    211960.699696\n",
      "697    172392.249079\n",
      "698    202666.965066\n",
      "699    287709.040265\n",
      "700    219350.039626\n",
      "701    139852.633525\n",
      "702    182496.593956\n",
      "703    135311.909640\n",
      "704    148459.479465\n",
      "705    273441.603535\n",
      "706    129929.853653\n",
      "707    211566.487676\n",
      "708    226241.598417\n",
      "709    125917.954666\n",
      "710    275966.724580\n",
      "711    147392.532326\n",
      "712    227285.079329\n",
      "713    163704.318772\n",
      "714    168775.131521\n",
      "715    133240.814556\n",
      "716    242711.046357\n",
      "717    310311.651898\n",
      "718    173115.103246\n",
      "719    139528.412353\n",
      "720    265846.282564\n",
      "721    231613.823146\n",
      "722    350989.594571\n",
      "723    196617.469439\n",
      "724    223718.221856\n",
      "725    160478.783665\n",
      "Length: 726, dtype: float64\n",
      "     index    p_saleprice\n",
      "0        1    9683.197943\n",
      "1        4  268402.606077\n",
      "2        7  184614.488075\n",
      "3       11  265811.096049\n",
      "4       13  201417.704397\n",
      "5       18  236669.980367\n",
      "6       20   60155.950725\n",
      "7       22  122990.321732\n",
      "8       26  268394.695449\n",
      "9       43  113992.021884\n",
      "10      44   64160.635418\n",
      "11      45  160080.271203\n",
      "12      46  181050.181206\n",
      "13      52  276664.452130\n",
      "14      53  236620.809989\n",
      "15      55  255719.726746\n",
      "16      58  225502.420572\n",
      "17      63  269166.480181\n",
      "18      66   96802.484389\n",
      "19      69  117310.026058\n",
      "20      74  203753.801118\n",
      "21      81  323305.088667\n",
      "22      85  120282.742174\n",
      "23      89  225727.825121\n",
      "24      92  238971.957087\n",
      "25      93  134339.528544\n",
      "26      97  110547.087255\n",
      "27     101  105523.493336\n",
      "28     102  211921.624164\n",
      "29     103  211856.476142\n",
      "..     ...            ...\n",
      "696   2805  211960.699696\n",
      "697   2806  172392.249079\n",
      "698   2811  202666.965066\n",
      "699   2812  287709.040265\n",
      "700   2817  219350.039626\n",
      "701   2821  139852.633525\n",
      "702   2822  182496.593956\n",
      "703   2828  135311.909640\n",
      "704   2829  148459.479465\n",
      "705   2842  273441.603535\n",
      "706   2846  129929.853653\n",
      "707   2854  211566.487676\n",
      "708   2857  226241.598417\n",
      "709   2861  125917.954666\n",
      "710   2862  275966.724580\n",
      "711   2866  147392.532326\n",
      "712   2868  227285.079329\n",
      "713   2870  163704.318772\n",
      "714   2873  168775.131521\n",
      "715   2878  133240.814556\n",
      "716   2883  242711.046357\n",
      "717   2885  310311.651898\n",
      "718   2886  173115.103246\n",
      "719   2900  139528.412353\n",
      "720   2903  265846.282564\n",
      "721   2912  231613.823146\n",
      "722   2914  350989.594571\n",
      "723   2919  196617.469439\n",
      "724   2923  223718.221856\n",
      "725   2924  160478.783665\n",
      "\n",
      "[726 rows x 2 columns]\n"
     ]
    }
   ],
   "source": [
    "X = train_none[['GrLivArea', 'OverallQual', 'YearBuilt', 'GarageArea','LotArea','TotalBsmtSF']]\n",
    "y = train_none['SalePrice']\n",
    "\n",
    "X_test = test_d[['GrLivArea', 'OverallQual', 'YearBuilt', 'GarageArea','LotArea','TotalBsmtSF']]\n",
    "\n",
    "## fit a OLS model with intercept\n",
    "model_4 = smf.OLS(y, X).fit()\n",
    "\n",
    "print(model_4.summary())\n",
    "\n",
    "#Convert the array predictions to a data frame then merge with the index for the test data to create your file\n",
    "test_predictions = model_4.predict(X_test)\n",
    "print(test_predictions)\n",
    "d = {'p_saleprice': test_predictions}\n",
    "df1 = test_d[['index']]\n",
    "df2=pd.DataFrame(data=d)\n",
    "your_file = pd.concat([df1,df2],axis = 1, join_axes=[df1.index])\n",
    "print(your_file)"
   ]
  },
  {
   "cell_type": "code",
   "execution_count": 223,
   "metadata": {},
   "outputs": [
    {
     "data": {
      "text/plain": [
       "<matplotlib.text.Text at 0x115253550>"
      ]
     },
     "execution_count": 223,
     "metadata": {},
     "output_type": "execute_result"
    },
    {
     "data": {
      "image/png": "[encoded data removed]",
      "text/plain": [
       "<matplotlib.figure.Figure at 0x112576320>"
      ]
     },
     "metadata": {},
     "output_type": "display_data"
    }
   ],
   "source": [
    "# Observed vs Fitted\n",
    "%matplotlib inline\n",
    "plt.scatter(train_none['SalePrice'], model_4.fittedvalues)\n",
    "plt.ylabel('Predicted SalePrice')\n",
    "plt.xlabel('Observed SalePrice')\n",
    "plt.title('Observed vs Predicted SalePrice')"
   ]
  },
  {
   "cell_type": "code",
   "execution_count": 224,
   "metadata": {},
   "outputs": [
    {
     "data": {
      "text/plain": [
       "GrLivArea         42.764930\n",
       "OverallQual    25664.244874\n",
       "YearBuilt        -54.523492\n",
       "GarageArea        60.906945\n",
       "LotArea            0.611598\n",
       "TotalBsmtSF       31.371069\n",
       "dtype: float64"
      ]
     },
     "execution_count": 224,
     "metadata": {},
     "output_type": "execute_result"
    }
   ],
   "source": [
    "model_4.params"
   ]
  },
  {
   "cell_type": "code",
   "execution_count": 225,
   "metadata": {},
   "outputs": [
    {
     "data": {
      "text/plain": [
       "LotFrontage          1.315086\n",
       "LotArea             13.440253\n",
       "OverallQual          0.236762\n",
       "OverallCond          0.630925\n",
       "YearBuilt           -0.573914\n",
       "YearRemodel         -0.441998\n",
       "MasVnrArea           2.613523\n",
       "BsmtFinSF1           1.483029\n",
       "BsmtFinSF2           4.165896\n",
       "BsmtUnfSF            0.942611\n",
       "TotalBsmtSF          1.112733\n",
       "FirstFlrSF           1.330116\n",
       "SecondFlrSF          0.876115\n",
       "LowQualFinSF        10.216197\n",
       "GrLivArea            1.300669\n",
       "BsmtFullBath         0.644459\n",
       "BsmtHalfBath         4.040926\n",
       "FullBath             0.122252\n",
       "HalfBath             0.695178\n",
       "BedroomAbvGr         0.295567\n",
       "KitchenAbvGr         4.413040\n",
       "TotRmsAbvGrd         0.706435\n",
       "Fireplaces           0.808304\n",
       "GarageYrBlt         -0.275665\n",
       "GarageCars          -0.218393\n",
       "GarageArea           0.263416\n",
       "WoodDeckSF           1.592101\n",
       "OpenPorchSF          2.587807\n",
       "EnclosedPorch        3.288317\n",
       "ThreeSsnPorch       10.902690\n",
       "ScreenPorch          4.005293\n",
       "PoolArea            15.522422\n",
       "MiscVal             20.189763\n",
       "MoSold               0.184525\n",
       "YrSold               0.114740\n",
       "SalePrice            1.767097\n",
       "index               -0.024955\n",
       "ExterQual_2num       0.758707\n",
       "ExterCond_2num       1.523882\n",
       "BsmtQual_2num       -1.223998\n",
       "BsmtCond_2num       -3.582197\n",
       "HeatingQC_2num      -0.532180\n",
       "KitchenQual_2num     0.411565\n",
       "FireplaceQu_2num     0.206611\n",
       "GarageQual_2num     -3.154806\n",
       "GarageCond_2num     -3.251068\n",
       "PoolQC_2num         14.468642\n",
       "dtype: float64"
      ]
     },
     "execution_count": 225,
     "metadata": {},
     "output_type": "execute_result"
    }
   ],
   "source": [
    "cols_skew = [col for col in train_none if '_2num' in col or '_' not in col]\n",
    "train_none[cols_skew].skew()"
   ]
  },
  {
   "cell_type": "code",
   "execution_count": 226,
   "metadata": {
    "collapsed": true
   },
   "outputs": [],
   "source": [
    "cols_unskew = train_none[cols_skew].columns[abs(train_none[cols_skew].skew()) > 1]"
   ]
  },
  {
   "cell_type": "code",
   "execution_count": 227,
   "metadata": {
    "collapsed": true
   },
   "outputs": [],
   "source": [
    "train_unskew = train_none.copy()"
   ]
  },
  {
   "cell_type": "code",
   "execution_count": 228,
   "metadata": {
    "collapsed": true
   },
   "outputs": [],
   "source": [
    "for col in cols_unskew:\n",
    "    train_unskew[col] = np.log1p(train_none[col])"
   ]
  },
  {
   "cell_type": "code",
   "execution_count": 229,
   "metadata": {},
   "outputs": [
    {
     "data": {
      "text/html": [
       "<div>\n",
       "<style>\n",
       "    .dataframe thead tr:only-child th {\n",
       "        text-align: right;\n",
       "    }\n",
       "\n",
       "    .dataframe thead th {\n",
       "        text-align: left;\n",
       "    }\n",
       "\n",
       "    .dataframe tbody tr th {\n",
       "        vertical-align: top;\n",
       "    }\n",
       "</style>\n",
       "<table border=\"1\" class=\"dataframe\">\n",
       "  <thead>\n",
       "    <tr style=\"text-align: right;\">\n",
       "      <th></th>\n",
       "      <th>Feature1</th>\n",
       "      <th>Feature2</th>\n",
       "      <th>Correlation</th>\n",
       "    </tr>\n",
       "  </thead>\n",
       "  <tbody>\n",
       "    <tr>\n",
       "      <th>60</th>\n",
       "      <td>CentralAir_N</td>\n",
       "      <td>CentralAir_Y</td>\n",
       "      <td>-1.000000</td>\n",
       "    </tr>\n",
       "    <tr>\n",
       "      <th>26</th>\n",
       "      <td>PoolQC_2num</td>\n",
       "      <td>PoolQC_None</td>\n",
       "      <td>-0.972605</td>\n",
       "    </tr>\n",
       "    <tr>\n",
       "      <th>71</th>\n",
       "      <td>MiscFeature_None</td>\n",
       "      <td>MiscFeature_Shed</td>\n",
       "      <td>-0.972338</td>\n",
       "    </tr>\n",
       "    <tr>\n",
       "      <th>14</th>\n",
       "      <td>FireplaceQu_2num</td>\n",
       "      <td>FireplaceQu_None</td>\n",
       "      <td>-0.954195</td>\n",
       "    </tr>\n",
       "    <tr>\n",
       "      <th>22</th>\n",
       "      <td>GarageCond_2num</td>\n",
       "      <td>GarageFinish_None</td>\n",
       "      <td>-0.949340</td>\n",
       "    </tr>\n",
       "    <tr>\n",
       "      <th>24</th>\n",
       "      <td>GarageCond_2num</td>\n",
       "      <td>GarageCond_None</td>\n",
       "      <td>-0.949340</td>\n",
       "    </tr>\n",
       "    <tr>\n",
       "      <th>23</th>\n",
       "      <td>GarageCond_2num</td>\n",
       "      <td>GarageQual_None</td>\n",
       "      <td>-0.949340</td>\n",
       "    </tr>\n",
       "    <tr>\n",
       "      <th>21</th>\n",
       "      <td>GarageCond_2num</td>\n",
       "      <td>GarageType_None</td>\n",
       "      <td>-0.945097</td>\n",
       "    </tr>\n",
       "    <tr>\n",
       "      <th>36</th>\n",
       "      <td>LandSlope_Gtl</td>\n",
       "      <td>LandSlope_Mod</td>\n",
       "      <td>-0.944058</td>\n",
       "    </tr>\n",
       "    <tr>\n",
       "      <th>35</th>\n",
       "      <td>LotShape_IR1</td>\n",
       "      <td>LotShape_Reg</td>\n",
       "      <td>-0.943981</td>\n",
       "    </tr>\n",
       "    <tr>\n",
       "      <th>20</th>\n",
       "      <td>GarageQual_2num</td>\n",
       "      <td>GarageCond_None</td>\n",
       "      <td>-0.943152</td>\n",
       "    </tr>\n",
       "    <tr>\n",
       "      <th>18</th>\n",
       "      <td>GarageQual_2num</td>\n",
       "      <td>GarageQual_None</td>\n",
       "      <td>-0.943152</td>\n",
       "    </tr>\n",
       "    <tr>\n",
       "      <th>17</th>\n",
       "      <td>GarageQual_2num</td>\n",
       "      <td>GarageFinish_None</td>\n",
       "      <td>-0.943152</td>\n",
       "    </tr>\n",
       "    <tr>\n",
       "      <th>16</th>\n",
       "      <td>GarageQual_2num</td>\n",
       "      <td>GarageType_None</td>\n",
       "      <td>-0.938936</td>\n",
       "    </tr>\n",
       "    <tr>\n",
       "      <th>5</th>\n",
       "      <td>PoolArea</td>\n",
       "      <td>PoolQC_None</td>\n",
       "      <td>-0.936548</td>\n",
       "    </tr>\n",
       "    <tr>\n",
       "      <th>38</th>\n",
       "      <td>RoofStyle_Gable</td>\n",
       "      <td>RoofStyle_Hip</td>\n",
       "      <td>-0.935222</td>\n",
       "    </tr>\n",
       "    <tr>\n",
       "      <th>48</th>\n",
       "      <td>ExterQual_Gd</td>\n",
       "      <td>ExterQual_TA</td>\n",
       "      <td>-0.898221</td>\n",
       "    </tr>\n",
       "    <tr>\n",
       "      <th>2</th>\n",
       "      <td>Fireplaces</td>\n",
       "      <td>FireplaceQu_None</td>\n",
       "      <td>-0.897152</td>\n",
       "    </tr>\n",
       "    <tr>\n",
       "      <th>49</th>\n",
       "      <td>ExterCond_Gd</td>\n",
       "      <td>ExterCond_TA</td>\n",
       "      <td>-0.880535</td>\n",
       "    </tr>\n",
       "    <tr>\n",
       "      <th>70</th>\n",
       "      <td>PavedDrive_N</td>\n",
       "      <td>PavedDrive_Y</td>\n",
       "      <td>-0.877576</td>\n",
       "    </tr>\n",
       "    <tr>\n",
       "      <th>61</th>\n",
       "      <td>Electrical_FuseA</td>\n",
       "      <td>Electrical_SBrkr</td>\n",
       "      <td>-0.871039</td>\n",
       "    </tr>\n",
       "    <tr>\n",
       "      <th>6</th>\n",
       "      <td>ExterQual_2num</td>\n",
       "      <td>ExterQual_TA</td>\n",
       "      <td>-0.858472</td>\n",
       "    </tr>\n",
       "    <tr>\n",
       "      <th>11</th>\n",
       "      <td>BsmtCond_2num</td>\n",
       "      <td>BsmtFinType1_None</td>\n",
       "      <td>-0.853982</td>\n",
       "    </tr>\n",
       "    <tr>\n",
       "      <th>9</th>\n",
       "      <td>BsmtCond_2num</td>\n",
       "      <td>BsmtCond_None</td>\n",
       "      <td>-0.853982</td>\n",
       "    </tr>\n",
       "    <tr>\n",
       "      <th>8</th>\n",
       "      <td>BsmtCond_2num</td>\n",
       "      <td>BsmtQual_None</td>\n",
       "      <td>-0.853982</td>\n",
       "    </tr>\n",
       "    <tr>\n",
       "      <th>12</th>\n",
       "      <td>BsmtCond_2num</td>\n",
       "      <td>BsmtFinType2_None</td>\n",
       "      <td>-0.853982</td>\n",
       "    </tr>\n",
       "    <tr>\n",
       "      <th>10</th>\n",
       "      <td>BsmtCond_2num</td>\n",
       "      <td>BsmtExposure_None</td>\n",
       "      <td>-0.838203</td>\n",
       "    </tr>\n",
       "    <tr>\n",
       "      <th>62</th>\n",
       "      <td>KitchenQual_Gd</td>\n",
       "      <td>KitchenQual_TA</td>\n",
       "      <td>-0.832572</td>\n",
       "    </tr>\n",
       "    <tr>\n",
       "      <th>47</th>\n",
       "      <td>MasVnrType_BrkFace</td>\n",
       "      <td>MasVnrType_None</td>\n",
       "      <td>-0.813837</td>\n",
       "    </tr>\n",
       "    <tr>\n",
       "      <th>63</th>\n",
       "      <td>Functional_Min</td>\n",
       "      <td>Functional_Typ</td>\n",
       "      <td>-0.813790</td>\n",
       "    </tr>\n",
       "    <tr>\n",
       "      <th>...</th>\n",
       "      <td>...</td>\n",
       "      <td>...</td>\n",
       "      <td>...</td>\n",
       "    </tr>\n",
       "    <tr>\n",
       "      <th>27</th>\n",
       "      <td>SubClass_45</td>\n",
       "      <td>HouseStyle_1.5Unf</td>\n",
       "      <td>0.888767</td>\n",
       "    </tr>\n",
       "    <tr>\n",
       "      <th>3</th>\n",
       "      <td>GarageCars</td>\n",
       "      <td>GarageArea</td>\n",
       "      <td>0.893115</td>\n",
       "    </tr>\n",
       "    <tr>\n",
       "      <th>13</th>\n",
       "      <td>HeatingQC_2num</td>\n",
       "      <td>HeatingQC_Ex</td>\n",
       "      <td>0.908490</td>\n",
       "    </tr>\n",
       "    <tr>\n",
       "      <th>28</th>\n",
       "      <td>SubClass_50</td>\n",
       "      <td>HouseStyle_1.5Fin</td>\n",
       "      <td>0.935804</td>\n",
       "    </tr>\n",
       "    <tr>\n",
       "      <th>15</th>\n",
       "      <td>GarageQual_2num</td>\n",
       "      <td>GarageCond_2num</td>\n",
       "      <td>0.949670</td>\n",
       "    </tr>\n",
       "    <tr>\n",
       "      <th>29</th>\n",
       "      <td>SubClass_80</td>\n",
       "      <td>HouseStyle_SLvl</td>\n",
       "      <td>0.950409</td>\n",
       "    </tr>\n",
       "    <tr>\n",
       "      <th>31</th>\n",
       "      <td>SubClass_190</td>\n",
       "      <td>BldgType_2fmCon</td>\n",
       "      <td>0.954586</td>\n",
       "    </tr>\n",
       "    <tr>\n",
       "      <th>43</th>\n",
       "      <td>Exterior1_MetalSd</td>\n",
       "      <td>Exterior2_MetalSd</td>\n",
       "      <td>0.968004</td>\n",
       "    </tr>\n",
       "    <tr>\n",
       "      <th>45</th>\n",
       "      <td>Exterior1_VinylSd</td>\n",
       "      <td>Exterior2_VinylSd</td>\n",
       "      <td>0.978313</td>\n",
       "    </tr>\n",
       "    <tr>\n",
       "      <th>58</th>\n",
       "      <td>BsmtExposure_None</td>\n",
       "      <td>BsmtFinType2_None</td>\n",
       "      <td>0.981486</td>\n",
       "    </tr>\n",
       "    <tr>\n",
       "      <th>57</th>\n",
       "      <td>BsmtExposure_None</td>\n",
       "      <td>BsmtFinType1_None</td>\n",
       "      <td>0.981486</td>\n",
       "    </tr>\n",
       "    <tr>\n",
       "      <th>54</th>\n",
       "      <td>BsmtCond_None</td>\n",
       "      <td>BsmtExposure_None</td>\n",
       "      <td>0.981486</td>\n",
       "    </tr>\n",
       "    <tr>\n",
       "      <th>51</th>\n",
       "      <td>BsmtQual_None</td>\n",
       "      <td>BsmtExposure_None</td>\n",
       "      <td>0.981486</td>\n",
       "    </tr>\n",
       "    <tr>\n",
       "      <th>41</th>\n",
       "      <td>Exterior1_CemntBd</td>\n",
       "      <td>Exterior2_CmentBd</td>\n",
       "      <td>0.987374</td>\n",
       "    </tr>\n",
       "    <tr>\n",
       "      <th>72</th>\n",
       "      <td>SaleType_New</td>\n",
       "      <td>SaleCondition_Partial</td>\n",
       "      <td>0.990643</td>\n",
       "    </tr>\n",
       "    <tr>\n",
       "      <th>66</th>\n",
       "      <td>GarageType_None</td>\n",
       "      <td>GarageCond_None</td>\n",
       "      <td>0.995530</td>\n",
       "    </tr>\n",
       "    <tr>\n",
       "      <th>65</th>\n",
       "      <td>GarageType_None</td>\n",
       "      <td>GarageQual_None</td>\n",
       "      <td>0.995530</td>\n",
       "    </tr>\n",
       "    <tr>\n",
       "      <th>64</th>\n",
       "      <td>GarageType_None</td>\n",
       "      <td>GarageFinish_None</td>\n",
       "      <td>0.995530</td>\n",
       "    </tr>\n",
       "    <tr>\n",
       "      <th>67</th>\n",
       "      <td>GarageFinish_None</td>\n",
       "      <td>GarageQual_None</td>\n",
       "      <td>1.000000</td>\n",
       "    </tr>\n",
       "    <tr>\n",
       "      <th>68</th>\n",
       "      <td>GarageFinish_None</td>\n",
       "      <td>GarageCond_None</td>\n",
       "      <td>1.000000</td>\n",
       "    </tr>\n",
       "    <tr>\n",
       "      <th>69</th>\n",
       "      <td>GarageQual_None</td>\n",
       "      <td>GarageCond_None</td>\n",
       "      <td>1.000000</td>\n",
       "    </tr>\n",
       "    <tr>\n",
       "      <th>32</th>\n",
       "      <td>Zoning_A</td>\n",
       "      <td>Exterior1_CBlock</td>\n",
       "      <td>1.000000</td>\n",
       "    </tr>\n",
       "    <tr>\n",
       "      <th>56</th>\n",
       "      <td>BsmtCond_None</td>\n",
       "      <td>BsmtFinType2_None</td>\n",
       "      <td>1.000000</td>\n",
       "    </tr>\n",
       "    <tr>\n",
       "      <th>55</th>\n",
       "      <td>BsmtCond_None</td>\n",
       "      <td>BsmtFinType1_None</td>\n",
       "      <td>1.000000</td>\n",
       "    </tr>\n",
       "    <tr>\n",
       "      <th>53</th>\n",
       "      <td>BsmtQual_None</td>\n",
       "      <td>BsmtFinType2_None</td>\n",
       "      <td>1.000000</td>\n",
       "    </tr>\n",
       "    <tr>\n",
       "      <th>50</th>\n",
       "      <td>BsmtQual_None</td>\n",
       "      <td>BsmtCond_None</td>\n",
       "      <td>1.000000</td>\n",
       "    </tr>\n",
       "    <tr>\n",
       "      <th>44</th>\n",
       "      <td>Exterior1_PreCast</td>\n",
       "      <td>Exterior2_PreCast</td>\n",
       "      <td>1.000000</td>\n",
       "    </tr>\n",
       "    <tr>\n",
       "      <th>30</th>\n",
       "      <td>SubClass_90</td>\n",
       "      <td>BldgType_Duplex</td>\n",
       "      <td>1.000000</td>\n",
       "    </tr>\n",
       "    <tr>\n",
       "      <th>59</th>\n",
       "      <td>BsmtFinType1_None</td>\n",
       "      <td>BsmtFinType2_None</td>\n",
       "      <td>1.000000</td>\n",
       "    </tr>\n",
       "    <tr>\n",
       "      <th>52</th>\n",
       "      <td>BsmtQual_None</td>\n",
       "      <td>BsmtFinType1_None</td>\n",
       "      <td>1.000000</td>\n",
       "    </tr>\n",
       "  </tbody>\n",
       "</table>\n",
       "<p>73 rows × 3 columns</p>\n",
       "</div>"
      ],
      "text/plain": [
       "              Feature1               Feature2  Correlation\n",
       "60        CentralAir_N           CentralAir_Y    -1.000000\n",
       "26         PoolQC_2num            PoolQC_None    -0.972605\n",
       "71    MiscFeature_None       MiscFeature_Shed    -0.972338\n",
       "14    FireplaceQu_2num       FireplaceQu_None    -0.954195\n",
       "22     GarageCond_2num      GarageFinish_None    -0.949340\n",
       "24     GarageCond_2num        GarageCond_None    -0.949340\n",
       "23     GarageCond_2num        GarageQual_None    -0.949340\n",
       "21     GarageCond_2num        GarageType_None    -0.945097\n",
       "36       LandSlope_Gtl          LandSlope_Mod    -0.944058\n",
       "35        LotShape_IR1           LotShape_Reg    -0.943981\n",
       "20     GarageQual_2num        GarageCond_None    -0.943152\n",
       "18     GarageQual_2num        GarageQual_None    -0.943152\n",
       "17     GarageQual_2num      GarageFinish_None    -0.943152\n",
       "16     GarageQual_2num        GarageType_None    -0.938936\n",
       "5             PoolArea            PoolQC_None    -0.936548\n",
       "38     RoofStyle_Gable          RoofStyle_Hip    -0.935222\n",
       "48        ExterQual_Gd           ExterQual_TA    -0.898221\n",
       "2           Fireplaces       FireplaceQu_None    -0.897152\n",
       "49        ExterCond_Gd           ExterCond_TA    -0.880535\n",
       "70        PavedDrive_N           PavedDrive_Y    -0.877576\n",
       "61    Electrical_FuseA       Electrical_SBrkr    -0.871039\n",
       "6       ExterQual_2num           ExterQual_TA    -0.858472\n",
       "11       BsmtCond_2num      BsmtFinType1_None    -0.853982\n",
       "9        BsmtCond_2num          BsmtCond_None    -0.853982\n",
       "8        BsmtCond_2num          BsmtQual_None    -0.853982\n",
       "12       BsmtCond_2num      BsmtFinType2_None    -0.853982\n",
       "10       BsmtCond_2num      BsmtExposure_None    -0.838203\n",
       "62      KitchenQual_Gd         KitchenQual_TA    -0.832572\n",
       "47  MasVnrType_BrkFace        MasVnrType_None    -0.813837\n",
       "63      Functional_Min         Functional_Typ    -0.813790\n",
       "..                 ...                    ...          ...\n",
       "27         SubClass_45      HouseStyle_1.5Unf     0.888767\n",
       "3           GarageCars             GarageArea     0.893115\n",
       "13      HeatingQC_2num           HeatingQC_Ex     0.908490\n",
       "28         SubClass_50      HouseStyle_1.5Fin     0.935804\n",
       "15     GarageQual_2num        GarageCond_2num     0.949670\n",
       "29         SubClass_80        HouseStyle_SLvl     0.950409\n",
       "31        SubClass_190        BldgType_2fmCon     0.954586\n",
       "43   Exterior1_MetalSd      Exterior2_MetalSd     0.968004\n",
       "45   Exterior1_VinylSd      Exterior2_VinylSd     0.978313\n",
       "58   BsmtExposure_None      BsmtFinType2_None     0.981486\n",
       "57   BsmtExposure_None      BsmtFinType1_None     0.981486\n",
       "54       BsmtCond_None      BsmtExposure_None     0.981486\n",
       "51       BsmtQual_None      BsmtExposure_None     0.981486\n",
       "41   Exterior1_CemntBd      Exterior2_CmentBd     0.987374\n",
       "72        SaleType_New  SaleCondition_Partial     0.990643\n",
       "66     GarageType_None        GarageCond_None     0.995530\n",
       "65     GarageType_None        GarageQual_None     0.995530\n",
       "64     GarageType_None      GarageFinish_None     0.995530\n",
       "67   GarageFinish_None        GarageQual_None     1.000000\n",
       "68   GarageFinish_None        GarageCond_None     1.000000\n",
       "69     GarageQual_None        GarageCond_None     1.000000\n",
       "32            Zoning_A       Exterior1_CBlock     1.000000\n",
       "56       BsmtCond_None      BsmtFinType2_None     1.000000\n",
       "55       BsmtCond_None      BsmtFinType1_None     1.000000\n",
       "53       BsmtQual_None      BsmtFinType2_None     1.000000\n",
       "50       BsmtQual_None          BsmtCond_None     1.000000\n",
       "44   Exterior1_PreCast      Exterior2_PreCast     1.000000\n",
       "30         SubClass_90        BldgType_Duplex     1.000000\n",
       "59   BsmtFinType1_None      BsmtFinType2_None     1.000000\n",
       "52       BsmtQual_None      BsmtFinType1_None     1.000000\n",
       "\n",
       "[73 rows x 3 columns]"
      ]
     },
     "execution_count": 229,
     "metadata": {},
     "output_type": "execute_result"
    }
   ],
   "source": [
    "corrmat = train_none.corr()\n",
    "indices = np.where(corrmat.abs() > 0.8)\n",
    "indices = [(corrmat.index[x], corrmat.columns[y], corrmat.values[x][y]) for x, y in zip(*indices)\n",
    "                                        if x != y and x < y]\n",
    "high_corr = pd.DataFrame(indices, columns=['Feature1', 'Feature2', 'Correlation'])\n",
    "high_corr.sort_values('Correlation')"
   ]
  },
  {
   "cell_type": "code",
   "execution_count": 230,
   "metadata": {},
   "outputs": [
    {
     "data": {
      "text/html": [
       "<div>\n",
       "<style>\n",
       "    .dataframe thead tr:only-child th {\n",
       "        text-align: right;\n",
       "    }\n",
       "\n",
       "    .dataframe thead th {\n",
       "        text-align: left;\n",
       "    }\n",
       "\n",
       "    .dataframe tbody tr th {\n",
       "        vertical-align: top;\n",
       "    }\n",
       "</style>\n",
       "<table border=\"1\" class=\"dataframe\">\n",
       "  <thead>\n",
       "    <tr style=\"text-align: right;\">\n",
       "      <th></th>\n",
       "      <th>index</th>\n",
       "      <th>SalePrice</th>\n",
       "      <th>LotFrontage</th>\n",
       "      <th>LotArea</th>\n",
       "      <th>OverallQual</th>\n",
       "      <th>OverallCond</th>\n",
       "      <th>YearBuilt</th>\n",
       "      <th>YearRemodel</th>\n",
       "      <th>MasVnrArea</th>\n",
       "      <th>BsmtFinSF1</th>\n",
       "      <th>...</th>\n",
       "      <th>GarageArea</th>\n",
       "      <th>WoodDeckSF</th>\n",
       "      <th>OpenPorchSF</th>\n",
       "      <th>EnclosedPorch</th>\n",
       "      <th>ThreeSsnPorch</th>\n",
       "      <th>ScreenPorch</th>\n",
       "      <th>PoolArea</th>\n",
       "      <th>MiscVal</th>\n",
       "      <th>MoSold</th>\n",
       "      <th>YrSold</th>\n",
       "    </tr>\n",
       "  </thead>\n",
       "  <tbody>\n",
       "    <tr>\n",
       "      <th>0</th>\n",
       "      <td>2</td>\n",
       "      <td>236500</td>\n",
       "      <td>70.0</td>\n",
       "      <td>11838</td>\n",
       "      <td>8</td>\n",
       "      <td>5</td>\n",
       "      <td>2001</td>\n",
       "      <td>2001</td>\n",
       "      <td>0.0</td>\n",
       "      <td>0.0</td>\n",
       "      <td>...</td>\n",
       "      <td>522</td>\n",
       "      <td>202</td>\n",
       "      <td>151</td>\n",
       "      <td>0</td>\n",
       "      <td>0</td>\n",
       "      <td>0</td>\n",
       "      <td>0</td>\n",
       "      <td>0</td>\n",
       "      <td>6</td>\n",
       "      <td>2009</td>\n",
       "    </tr>\n",
       "    <tr>\n",
       "      <th>1</th>\n",
       "      <td>3</td>\n",
       "      <td>187000</td>\n",
       "      <td>70.0</td>\n",
       "      <td>8304</td>\n",
       "      <td>6</td>\n",
       "      <td>5</td>\n",
       "      <td>1997</td>\n",
       "      <td>1998</td>\n",
       "      <td>0.0</td>\n",
       "      <td>0.0</td>\n",
       "      <td>...</td>\n",
       "      <td>688</td>\n",
       "      <td>150</td>\n",
       "      <td>165</td>\n",
       "      <td>0</td>\n",
       "      <td>0</td>\n",
       "      <td>0</td>\n",
       "      <td>0</td>\n",
       "      <td>0</td>\n",
       "      <td>7</td>\n",
       "      <td>2006</td>\n",
       "    </tr>\n",
       "    <tr>\n",
       "      <th>2</th>\n",
       "      <td>5</td>\n",
       "      <td>113000</td>\n",
       "      <td>58.0</td>\n",
       "      <td>6380</td>\n",
       "      <td>5</td>\n",
       "      <td>6</td>\n",
       "      <td>1922</td>\n",
       "      <td>1950</td>\n",
       "      <td>0.0</td>\n",
       "      <td>0.0</td>\n",
       "      <td>...</td>\n",
       "      <td>280</td>\n",
       "      <td>0</td>\n",
       "      <td>0</td>\n",
       "      <td>116</td>\n",
       "      <td>0</td>\n",
       "      <td>0</td>\n",
       "      <td>0</td>\n",
       "      <td>0</td>\n",
       "      <td>8</td>\n",
       "      <td>2006</td>\n",
       "    </tr>\n",
       "    <tr>\n",
       "      <th>3</th>\n",
       "      <td>6</td>\n",
       "      <td>190000</td>\n",
       "      <td>80.0</td>\n",
       "      <td>14803</td>\n",
       "      <td>6</td>\n",
       "      <td>5</td>\n",
       "      <td>1971</td>\n",
       "      <td>1971</td>\n",
       "      <td>252.0</td>\n",
       "      <td>416.0</td>\n",
       "      <td>...</td>\n",
       "      <td>495</td>\n",
       "      <td>0</td>\n",
       "      <td>66</td>\n",
       "      <td>0</td>\n",
       "      <td>0</td>\n",
       "      <td>0</td>\n",
       "      <td>0</td>\n",
       "      <td>0</td>\n",
       "      <td>6</td>\n",
       "      <td>2006</td>\n",
       "    </tr>\n",
       "    <tr>\n",
       "      <th>4</th>\n",
       "      <td>8</td>\n",
       "      <td>150000</td>\n",
       "      <td>91.0</td>\n",
       "      <td>11375</td>\n",
       "      <td>6</td>\n",
       "      <td>5</td>\n",
       "      <td>1954</td>\n",
       "      <td>1995</td>\n",
       "      <td>0.0</td>\n",
       "      <td>736.0</td>\n",
       "      <td>...</td>\n",
       "      <td>494</td>\n",
       "      <td>81</td>\n",
       "      <td>0</td>\n",
       "      <td>280</td>\n",
       "      <td>0</td>\n",
       "      <td>0</td>\n",
       "      <td>0</td>\n",
       "      <td>0</td>\n",
       "      <td>10</td>\n",
       "      <td>2007</td>\n",
       "    </tr>\n",
       "  </tbody>\n",
       "</table>\n",
       "<p>5 rows × 37 columns</p>\n",
       "</div>"
      ],
      "text/plain": [
       "   index  SalePrice  LotFrontage  LotArea  OverallQual  OverallCond  \\\n",
       "0      2     236500         70.0    11838            8            5   \n",
       "1      3     187000         70.0     8304            6            5   \n",
       "2      5     113000         58.0     6380            5            6   \n",
       "3      6     190000         80.0    14803            6            5   \n",
       "4      8     150000         91.0    11375            6            5   \n",
       "\n",
       "   YearBuilt  YearRemodel  MasVnrArea  BsmtFinSF1   ...    GarageArea  \\\n",
       "0       2001         2001         0.0         0.0   ...           522   \n",
       "1       1997         1998         0.0         0.0   ...           688   \n",
       "2       1922         1950         0.0         0.0   ...           280   \n",
       "3       1971         1971       252.0       416.0   ...           495   \n",
       "4       1954         1995         0.0       736.0   ...           494   \n",
       "\n",
       "   WoodDeckSF  OpenPorchSF  EnclosedPorch  ThreeSsnPorch  ScreenPorch  \\\n",
       "0         202          151              0              0            0   \n",
       "1         150          165              0              0            0   \n",
       "2           0            0            116              0            0   \n",
       "3           0           66              0              0            0   \n",
       "4          81            0            280              0            0   \n",
       "\n",
       "   PoolArea  MiscVal  MoSold  YrSold  \n",
       "0         0        0       6    2009  \n",
       "1         0        0       7    2006  \n",
       "2         0        0       8    2006  \n",
       "3         0        0       6    2006  \n",
       "4         0        0      10    2007  \n",
       "\n",
       "[5 rows x 37 columns]"
      ]
     },
     "execution_count": 230,
     "metadata": {},
     "output_type": "execute_result"
    }
   ],
   "source": [
    "# Make DataFrame with just the highly correlated features\n",
    "test_u = high_corr[:]['Feature1']\n",
    "test_u = test_u.append(high_corr[:]['Feature2'], ignore_index=True)\n",
    "test_u = test_u.append(pd.Series(['','SalePrice']))\n",
    "test_u = test_u.drop_duplicates()\n",
    "df_train_high_corr = train_none.filter(items=test)\n",
    "df_train_high_corr.head()"
   ]
  },
  {
   "cell_type": "code",
   "execution_count": 231,
   "metadata": {},
   "outputs": [
    {
     "data": {
      "text/plain": [
       "SalePrice        1.000000\n",
       "OverallQual      0.799837\n",
       "GrLivArea        0.701734\n",
       "GarageCars       0.651208\n",
       "GarageArea       0.645954\n",
       "FirstFlrSF       0.633116\n",
       "TotalBsmtSF      0.631399\n",
       "YearBuilt        0.557469\n",
       "FullBath         0.536306\n",
       "YearRemodel      0.522784\n",
       "MasVnrArea       0.500541\n",
       "GarageYrBlt      0.490418\n",
       "TotRmsAbvGrd     0.489947\n",
       "Fireplaces       0.487527\n",
       "BsmtFinSF1       0.446513\n",
       "LotFrontage      0.357270\n",
       "WoodDeckSF       0.336688\n",
       "OpenPorchSF      0.308081\n",
       "BsmtFullBath     0.289762\n",
       "HalfBath         0.286912\n",
       "LotArea          0.262951\n",
       "SecondFlrSF      0.249058\n",
       "BsmtUnfSF        0.156000\n",
       "BedroomAbvGr     0.128759\n",
       "ScreenPorch      0.099817\n",
       "PoolArea         0.081070\n",
       "MoSold           0.031991\n",
       "BsmtFinSF2       0.019153\n",
       "ThreeSsnPorch    0.015316\n",
       "index           -0.010446\n",
       "MiscVal         -0.015998\n",
       "YrSold          -0.024561\n",
       "LowQualFinSF    -0.038653\n",
       "BsmtHalfBath    -0.044334\n",
       "OverallCond     -0.109245\n",
       "KitchenAbvGr    -0.109632\n",
       "EnclosedPorch   -0.133154\n",
       "Name: SalePrice, dtype: float64"
      ]
     },
     "execution_count": 231,
     "metadata": {},
     "output_type": "execute_result"
    }
   ],
   "source": [
    "# See how correlated they are to sales price\n",
    "df_train_high_corr.corr()['SalePrice'].sort_values(ascending=False)"
   ]
  },
  {
   "cell_type": "code",
   "execution_count": 232,
   "metadata": {},
   "outputs": [
    {
     "name": "stdout",
     "output_type": "stream",
     "text": [
      "                            OLS Regression Results                            \n",
      "==============================================================================\n",
      "Dep. Variable:              SalePrice   R-squared:                       0.971\n",
      "Model:                            OLS   Adj. R-squared:                  0.971\n",
      "Method:                 Least Squares   F-statistic:                     3731.\n",
      "Date:                Sun, 22 Oct 2017   Prob (F-statistic):               0.00\n",
      "Time:                        20:48:07   Log-Likelihood:                -24138.\n",
      "No. Observations:                2039   AIC:                         4.831e+04\n",
      "Df Residuals:                    2021   BIC:                         4.841e+04\n",
      "Df Model:                          18                                         \n",
      "Covariance Type:            nonrobust                                         \n",
      "================================================================================\n",
      "                   coef    std err          t      P>|t|      [0.025      0.975]\n",
      "--------------------------------------------------------------------------------\n",
      "OverallQual   1.805e+04    907.452     19.894      0.000    1.63e+04    1.98e+04\n",
      "GrLivArea       39.5844      3.284     12.055      0.000      33.145      46.024\n",
      "GarageArea      38.8176      4.734      8.199      0.000      29.533      48.102\n",
      "TotalBsmtSF     21.3321      2.342      9.110      0.000      16.740      25.924\n",
      "YearBuilt      114.1659     45.443      2.512      0.012      25.047     203.285\n",
      "FullBath      -149.8100   2053.538     -0.073      0.942   -4177.082    3877.462\n",
      "YearRemodel    305.0410     49.902      6.113      0.000     207.176     402.906\n",
      "MasVnrArea      37.4706      4.851      7.724      0.000      27.957      46.985\n",
      "GarageYrBlt    121.9757     51.313      2.377      0.018      21.343     222.608\n",
      "TotRmsAbvGrd  2044.0510    873.325      2.341      0.019     331.339    3756.763\n",
      "Fireplaces    7393.3725   1400.368      5.280      0.000    4647.056    1.01e+04\n",
      "LotFrontage     44.2552     41.931      1.055      0.291     -37.978     126.488\n",
      "WoodDeckSF      21.5237      6.459      3.332      0.001       8.857      34.191\n",
      "BsmtFullBath  1.409e+04   1564.544      9.005      0.000     1.1e+04    1.72e+04\n",
      "LotArea          0.4831      0.104      4.641      0.000       0.279       0.687\n",
      "ScreenPorch     68.9250     14.273      4.829      0.000      40.934      96.916\n",
      "YrSold        -556.1920     51.014    -10.903      0.000    -656.237    -456.147\n",
      "KitchenAbvGr -2.154e+04   4074.125     -5.287      0.000   -2.95e+04   -1.35e+04\n",
      "==============================================================================\n",
      "Omnibus:                      979.295   Durbin-Watson:                   1.992\n",
      "Prob(Omnibus):                  0.000   Jarque-Bera (JB):           157522.931\n",
      "Skew:                          -1.179   Prob(JB):                         0.00\n",
      "Kurtosis:                      45.995   Cond. No.                     7.41e+04\n",
      "==============================================================================\n",
      "\n",
      "Warnings:\n",
      "[1] Standard Errors assume that the covariance matrix of the errors is correctly specified.\n",
      "[2] The condition number is large, 7.41e+04. This might indicate that there are\n",
      "strong multicollinearity or other numerical problems.\n",
      "0       22991.300229\n",
      "1      265567.363247\n",
      "2      197657.338936\n",
      "3      249570.790391\n",
      "4      201268.584380\n",
      "5      237429.271994\n",
      "6       82028.181546\n",
      "7      132510.289304\n",
      "8      267527.501739\n",
      "9      129823.076588\n",
      "10      80918.242697\n",
      "11     166181.980867\n",
      "12     183057.896619\n",
      "13     283360.984778\n",
      "14     250677.469130\n",
      "15     217046.542460\n",
      "16     224375.519205\n",
      "17     278180.823060\n",
      "18      85278.348305\n",
      "19     111590.790807\n",
      "20     215847.413274\n",
      "21     310328.568037\n",
      "22     123944.148413\n",
      "23     240627.409782\n",
      "24     252250.534518\n",
      "25     119891.963715\n",
      "26     120459.298836\n",
      "27     119281.484120\n",
      "28     206417.628188\n",
      "29     215043.005506\n",
      "           ...      \n",
      "696    213567.354312\n",
      "697    170910.458079\n",
      "698    200326.296000\n",
      "699    313971.226555\n",
      "700    221670.423663\n",
      "701    125236.614915\n",
      "702    163764.267098\n",
      "703    135055.594245\n",
      "704    130155.457255\n",
      "705    280751.503252\n",
      "706    131594.924495\n",
      "707    215206.738785\n",
      "708    229708.107496\n",
      "709    108567.867349\n",
      "710    283825.342253\n",
      "711    135717.083043\n",
      "712    243822.844968\n",
      "713    175136.152663\n",
      "714    155833.781097\n",
      "715    133475.804834\n",
      "716    266532.651630\n",
      "717    308754.065979\n",
      "718    145323.992023\n",
      "719    119588.099710\n",
      "720    243516.330588\n",
      "721    258778.191061\n",
      "722    344212.433165\n",
      "723    172689.251044\n",
      "724    211966.753707\n",
      "725    153851.281091\n",
      "Length: 726, dtype: float64\n",
      "     index    p_saleprice\n",
      "0        1   22991.300229\n",
      "1        4  265567.363247\n",
      "2        7  197657.338936\n",
      "3       11  249570.790391\n",
      "4       13  201268.584380\n",
      "5       18  237429.271994\n",
      "6       20   82028.181546\n",
      "7       22  132510.289304\n",
      "8       26  267527.501739\n",
      "9       43  129823.076588\n",
      "10      44   80918.242697\n",
      "11      45  166181.980867\n",
      "12      46  183057.896619\n",
      "13      52  283360.984778\n",
      "14      53  250677.469130\n",
      "15      55  217046.542460\n",
      "16      58  224375.519205\n",
      "17      63  278180.823060\n",
      "18      66   85278.348305\n",
      "19      69  111590.790807\n",
      "20      74  215847.413274\n",
      "21      81  310328.568037\n",
      "22      85  123944.148413\n",
      "23      89  240627.409782\n",
      "24      92  252250.534518\n",
      "25      93  119891.963715\n",
      "26      97  120459.298836\n",
      "27     101  119281.484120\n",
      "28     102  206417.628188\n",
      "29     103  215043.005506\n",
      "..     ...            ...\n",
      "696   2805  213567.354312\n",
      "697   2806  170910.458079\n",
      "698   2811  200326.296000\n",
      "699   2812  313971.226555\n",
      "700   2817  221670.423663\n",
      "701   2821  125236.614915\n",
      "702   2822  163764.267098\n",
      "703   2828  135055.594245\n",
      "704   2829  130155.457255\n",
      "705   2842  280751.503252\n",
      "706   2846  131594.924495\n",
      "707   2854  215206.738785\n",
      "708   2857  229708.107496\n",
      "709   2861  108567.867349\n",
      "710   2862  283825.342253\n",
      "711   2866  135717.083043\n",
      "712   2868  243822.844968\n",
      "713   2870  175136.152663\n",
      "714   2873  155833.781097\n",
      "715   2878  133475.804834\n",
      "716   2883  266532.651630\n",
      "717   2885  308754.065979\n",
      "718   2886  145323.992023\n",
      "719   2900  119588.099710\n",
      "720   2903  243516.330588\n",
      "721   2912  258778.191061\n",
      "722   2914  344212.433165\n",
      "723   2919  172689.251044\n",
      "724   2923  211966.753707\n",
      "725   2924  153851.281091\n",
      "\n",
      "[726 rows x 2 columns]\n"
     ]
    }
   ],
   "source": [
    "X = train_none[['OverallQual','GrLivArea','GarageArea','TotalBsmtSF','YearBuilt','FullBath',\n",
    "                'YearRemodel','MasVnrArea','GarageYrBlt','TotRmsAbvGrd','Fireplaces','LotFrontage',\n",
    "                'WoodDeckSF','BsmtFullBath','LotArea','ScreenPorch','YrSold','KitchenAbvGr']]\n",
    "y = train_none['SalePrice']\n",
    "\n",
    "X_test = test_d[['OverallQual','GrLivArea','GarageArea','TotalBsmtSF','YearBuilt','FullBath',\n",
    "                 'YearRemodel','MasVnrArea','GarageYrBlt','TotRmsAbvGrd','Fireplaces','LotFrontage',\n",
    "                 'WoodDeckSF','BsmtFullBath','LotArea','ScreenPorch','YrSold','KitchenAbvGr']]\n",
    "\n",
    "## fit a OLS model with intercept\n",
    "model_0 = smf.OLS(y, X).fit()\n",
    "\n",
    "print(model_0.summary())\n",
    "\n",
    "#Convert the array predictions to a data frame then merge with the index for the test data to create your file\n",
    "test_predictions = model_0.predict(X_test)\n",
    "print(test_predictions)\n",
    "d = {'p_saleprice': test_predictions}\n",
    "df1 = test_d[['index']]\n",
    "df2=pd.DataFrame(data=d)\n",
    "your_file = pd.concat([df1,df2],axis = 1, join_axes=[df1.index])\n",
    "print(your_file)"
   ]
  },
  {
   "cell_type": "code",
   "execution_count": 233,
   "metadata": {},
   "outputs": [
    {
     "data": {
      "image/png": "[encoded data removed]",
      "text/plain": [
       "<matplotlib.figure.Figure at 0x113455c50>"
      ]
     },
     "metadata": {},
     "output_type": "display_data"
    }
   ],
   "source": [
    "#bivariate analysis saleprice/grlivarea\n",
    "var = 'TotalBsmtSF'\n",
    "data = pd.concat([train_none['SalePrice'], train_none[var]], axis=1)\n",
    "data.plot.scatter(x=var, y='SalePrice', ylim=(0,800000));"
   ]
  },
  {
   "cell_type": "code",
   "execution_count": 234,
   "metadata": {
    "collapsed": true
   },
   "outputs": [],
   "source": [
    "train_drop_high = train_none.drop(train_none[train_none['SalePrice'] >= 500000].index)\n",
    "train_drop_high = train_drop_high.drop(train_drop_high[train_drop_high['TotalBsmtSF'] >= 6000].index)\n",
    "train_drop_high = train_drop_high.drop(train_drop_high[train_drop_high['GrLivArea'] >= 4000].index)\n",
    "train_drop_high = train_drop_high.drop(train_drop_high[train_drop_high['LotArea'] >= 100000].index)\n",
    "train_drop_high = train_drop_high.drop(train_drop_high[train_drop_high['MasVnrArea'] >= 1000].index)\n",
    "train_drop_high = train_drop_high.drop(train_drop_high[train_drop_high['KitchenAbvGr'] >= 3].index)"
   ]
  },
  {
   "cell_type": "code",
   "execution_count": 235,
   "metadata": {},
   "outputs": [
    {
     "data": {
      "image/png": "[encoded data removed]",
      "text/plain": [
       "<matplotlib.figure.Figure at 0x1158a8ac8>"
      ]
     },
     "metadata": {},
     "output_type": "display_data"
    }
   ],
   "source": [
    "#bivariate analysis saleprice/grlivarea\n",
    "var = 'KitchenAbvGr'\n",
    "data = pd.concat([train_drop_high['SalePrice'], train_drop_high[var]], axis=1)\n",
    "data.plot.scatter(x=var, y='SalePrice', ylim=(0,800000));"
   ]
  },
  {
   "cell_type": "code",
   "execution_count": 241,
   "metadata": {},
   "outputs": [
    {
     "name": "stdout",
     "output_type": "stream",
     "text": [
      "                            OLS Regression Results                            \n",
      "==============================================================================\n",
      "Dep. Variable:              SalePrice   R-squared:                       0.975\n",
      "Model:                            OLS   Adj. R-squared:                  0.975\n",
      "Method:                 Least Squares   F-statistic:                 1.301e+04\n",
      "Date:                Sun, 22 Oct 2017   Prob (F-statistic):               0.00\n",
      "Time:                        20:48:46   Log-Likelihood:                -23610.\n",
      "No. Observations:                2012   AIC:                         4.723e+04\n",
      "Df Residuals:                    2006   BIC:                         4.727e+04\n",
      "Df Model:                           6                                         \n",
      "Covariance Type:            nonrobust                                         \n",
      "===============================================================================\n",
      "                  coef    std err          t      P>|t|      [0.025      0.975]\n",
      "-------------------------------------------------------------------------------\n",
      "GrLivArea      42.9072      1.852     23.173      0.000      39.276      46.539\n",
      "OverallQual  2.393e+04    703.426     34.012      0.000    2.25e+04    2.53e+04\n",
      "YearBuilt     -54.2059      1.710    -31.708      0.000     -57.559     -50.853\n",
      "GarageArea     56.5709      4.024     14.057      0.000      48.678      64.463\n",
      "LotArea         1.2309      0.148      8.332      0.000       0.941       1.521\n",
      "TotalBsmtSF    36.2663      2.039     17.783      0.000      32.267      40.266\n",
      "==============================================================================\n",
      "Omnibus:                      168.580   Durbin-Watson:                   1.985\n",
      "Prob(Omnibus):                  0.000   Jarque-Bera (JB):              664.373\n",
      "Skew:                           0.326   Prob(JB):                    5.41e-145\n",
      "Kurtosis:                       5.738   Cond. No.                     1.17e+04\n",
      "==============================================================================\n",
      "\n",
      "Warnings:\n",
      "[1] Standard Errors assume that the covariance matrix of the errors is correctly specified.\n",
      "[2] The condition number is large, 1.17e+04. This might indicate that there are\n",
      "strong multicollinearity or other numerical problems.\n",
      "0       12845.474319\n",
      "1      267166.040689\n",
      "2      183227.079490\n",
      "3      262767.397219\n",
      "4      201523.228427\n",
      "5      233632.939250\n",
      "6       65535.119878\n",
      "7      124154.115783\n",
      "8      265195.483434\n",
      "9      122338.704713\n",
      "10      65287.470042\n",
      "11     160024.544581\n",
      "12     179124.232701\n",
      "13     276793.008406\n",
      "14     234313.834106\n",
      "15     249077.727503\n",
      "16     243236.687194\n",
      "17     277048.627449\n",
      "18      91512.892807\n",
      "19     115796.966275\n",
      "20     205202.635320\n",
      "21     326330.896516\n",
      "22     117861.925267\n",
      "23     224112.612014\n",
      "24     239612.029152\n",
      "25     130303.565035\n",
      "26     110470.390819\n",
      "27     108711.968764\n",
      "28     208146.649036\n",
      "29     212928.226387\n",
      "           ...      \n",
      "696    212014.089060\n",
      "697    166165.936571\n",
      "698    197740.218548\n",
      "699    288114.410444\n",
      "700    218036.033617\n",
      "701    137503.406181\n",
      "702    179395.058816\n",
      "703    134473.980399\n",
      "704    147109.874684\n",
      "705    267699.713843\n",
      "706    131263.991034\n",
      "707    207447.085407\n",
      "708    232853.926292\n",
      "709    125881.135042\n",
      "710    274862.903841\n",
      "711    148723.656674\n",
      "712    233825.723302\n",
      "713    163766.668138\n",
      "714    166671.567631\n",
      "715    131216.864050\n",
      "716    241971.169650\n",
      "717    305689.215822\n",
      "718    171481.639831\n",
      "719    134251.716866\n",
      "720    264527.261533\n",
      "721    233196.190885\n",
      "722    349634.314233\n",
      "723    194588.225138\n",
      "724    222935.130508\n",
      "725    169783.233080\n",
      "Length: 726, dtype: float64\n",
      "     index    p_saleprice\n",
      "0        1   12845.474319\n",
      "1        4  267166.040689\n",
      "2        7  183227.079490\n",
      "3       11  262767.397219\n",
      "4       13  201523.228427\n",
      "5       18  233632.939250\n",
      "6       20   65535.119878\n",
      "7       22  124154.115783\n",
      "8       26  265195.483434\n",
      "9       43  122338.704713\n",
      "10      44   65287.470042\n",
      "11      45  160024.544581\n",
      "12      46  179124.232701\n",
      "13      52  276793.008406\n",
      "14      53  234313.834106\n",
      "15      55  249077.727503\n",
      "16      58  243236.687194\n",
      "17      63  277048.627449\n",
      "18      66   91512.892807\n",
      "19      69  115796.966275\n",
      "20      74  205202.635320\n",
      "21      81  326330.896516\n",
      "22      85  117861.925267\n",
      "23      89  224112.612014\n",
      "24      92  239612.029152\n",
      "25      93  130303.565035\n",
      "26      97  110470.390819\n",
      "27     101  108711.968764\n",
      "28     102  208146.649036\n",
      "29     103  212928.226387\n",
      "..     ...            ...\n",
      "696   2805  212014.089060\n",
      "697   2806  166165.936571\n",
      "698   2811  197740.218548\n",
      "699   2812  288114.410444\n",
      "700   2817  218036.033617\n",
      "701   2821  137503.406181\n",
      "702   2822  179395.058816\n",
      "703   2828  134473.980399\n",
      "704   2829  147109.874684\n",
      "705   2842  267699.713843\n",
      "706   2846  131263.991034\n",
      "707   2854  207447.085407\n",
      "708   2857  232853.926292\n",
      "709   2861  125881.135042\n",
      "710   2862  274862.903841\n",
      "711   2866  148723.656674\n",
      "712   2868  233825.723302\n",
      "713   2870  163766.668138\n",
      "714   2873  166671.567631\n",
      "715   2878  131216.864050\n",
      "716   2883  241971.169650\n",
      "717   2885  305689.215822\n",
      "718   2886  171481.639831\n",
      "719   2900  134251.716866\n",
      "720   2903  264527.261533\n",
      "721   2912  233196.190885\n",
      "722   2914  349634.314233\n",
      "723   2919  194588.225138\n",
      "724   2923  222935.130508\n",
      "725   2924  169783.233080\n",
      "\n",
      "[726 rows x 2 columns]\n"
     ]
    }
   ],
   "source": [
    "X = train_drop_high[['GrLivArea', 'OverallQual', 'YearBuilt', 'GarageArea','LotArea','TotalBsmtSF']]\n",
    "y = train_drop_high['SalePrice']\n",
    "\n",
    "X_test = test_d[['GrLivArea', 'OverallQual', 'YearBuilt', 'GarageArea','LotArea','TotalBsmtSF']]\n",
    "\n",
    "## fit a OLS model with intercept\n",
    "model_0_1 = smf.OLS(y, X).fit()\n",
    "\n",
    "print(model_0_1.summary())\n",
    "\n",
    "#Convert the array predictions to a data frame then merge with the index for the test data to create your file\n",
    "test_predictions = model_0_1.predict(X_test)\n",
    "print(test_predictions)\n",
    "d = {'p_saleprice': test_predictions}\n",
    "df1 = test_d[['index']]\n",
    "df2=pd.DataFrame(data=d)\n",
    "your_file = pd.concat([df1,df2],axis = 1, join_axes=[df1.index])\n",
    "print(your_file)"
   ]
  },
  {
   "cell_type": "code",
   "execution_count": 242,
   "metadata": {},
   "outputs": [
    {
     "data": {
      "text/plain": [
       "GrLivArea         42.907245\n",
       "OverallQual    23925.067709\n",
       "YearBuilt        -54.205937\n",
       "GarageArea        56.570916\n",
       "LotArea            1.230910\n",
       "TotalBsmtSF       36.266345\n",
       "dtype: float64"
      ]
     },
     "execution_count": 242,
     "metadata": {},
     "output_type": "execute_result"
    }
   ],
   "source": [
    "model_0_1.params"
   ]
  },
  {
   "cell_type": "code",
   "execution_count": 243,
   "metadata": {},
   "outputs": [
    {
     "data": {
      "text/plain": [
       "<matplotlib.text.Text at 0x112bad588>"
      ]
     },
     "execution_count": 243,
     "metadata": {},
     "output_type": "execute_result"
    },
    {
     "data": {
      "image/png": "[encoded data removed]",
      "text/plain": [
       "<matplotlib.figure.Figure at 0x112c30eb8>"
      ]
     },
     "metadata": {},
     "output_type": "display_data"
    }
   ],
   "source": [
    "# Observed vs Fitted\n",
    "%matplotlib inline\n",
    "plt.scatter(train_drop_high['SalePrice'], model_0_1.fittedvalues)\n",
    "plt.ylabel('Predicted SalePrice')\n",
    "plt.xlabel('Observed SalePrice')\n",
    "plt.title('Observed vs Predicted SalePrice')"
   ]
  },
  {
   "cell_type": "code",
   "execution_count": 238,
   "metadata": {},
   "outputs": [
    {
     "name": "stdout",
     "output_type": "stream",
     "text": [
      "                            OLS Regression Results                            \n",
      "==============================================================================\n",
      "Dep. Variable:              SalePrice   R-squared:                       0.981\n",
      "Model:                            OLS   Adj. R-squared:                  0.981\n",
      "Method:                 Least Squares   F-statistic:                     7866.\n",
      "Date:                Sun, 22 Oct 2017   Prob (F-statistic):               0.00\n",
      "Time:                        20:48:08   Log-Likelihood:                -23341.\n",
      "No. Observations:                2012   AIC:                         4.671e+04\n",
      "Df Residuals:                    1999   BIC:                         4.678e+04\n",
      "Df Model:                          13                                         \n",
      "Covariance Type:            nonrobust                                         \n",
      "================================================================================\n",
      "                   coef    std err          t      P>|t|      [0.025      0.975]\n",
      "--------------------------------------------------------------------------------\n",
      "OverallQual   1.617e+04    724.621     22.319      0.000    1.48e+04    1.76e+04\n",
      "GrLivArea       47.4213      1.834     25.858      0.000      43.825      51.018\n",
      "GarageArea      36.3839      3.731      9.752      0.000      29.067      43.701\n",
      "TotalBsmtSF     27.3071      1.910     14.295      0.000      23.561      31.053\n",
      "YearBuilt      190.4010     28.224      6.746      0.000     135.049     245.753\n",
      "YearRemodel    339.5666     38.049      8.924      0.000     264.947     414.187\n",
      "MasVnrArea      32.1294      4.335      7.412      0.000      23.629      40.630\n",
      "Fireplaces    6583.0155   1099.469      5.987      0.000    4426.791    8739.240\n",
      "LotFrontage     99.9924     34.889      2.866      0.004      31.571     168.414\n",
      "BsmtFullBath  1.291e+04   1213.939     10.633      0.000    1.05e+04    1.53e+04\n",
      "LotArea          1.0600      0.143      7.430      0.000       0.780       1.340\n",
      "YrSold        -542.5112     35.819    -15.146      0.000    -612.758    -472.264\n",
      "KitchenAbvGr -2.419e+04   3130.562     -7.725      0.000   -3.03e+04    -1.8e+04\n",
      "==============================================================================\n",
      "Omnibus:                      269.789   Durbin-Watson:                   2.023\n",
      "Prob(Omnibus):                  0.000   Jarque-Bera (JB):             1103.005\n",
      "Skew:                           0.597   Prob(JB):                    3.06e-240\n",
      "Kurtosis:                       6.425   Cond. No.                     6.11e+04\n",
      "==============================================================================\n",
      "\n",
      "Warnings:\n",
      "[1] Standard Errors assume that the covariance matrix of the errors is correctly specified.\n",
      "[2] The condition number is large, 6.11e+04. This might indicate that there are\n",
      "strong multicollinearity or other numerical problems.\n",
      "0       23119.663491\n",
      "1      266770.159875\n",
      "2      196822.261593\n",
      "3      247915.417104\n",
      "4      206931.620882\n",
      "5      231428.817386\n",
      "6       93255.638382\n",
      "7      134131.371181\n",
      "8      264117.885519\n",
      "9      143958.423924\n",
      "10      82615.730038\n",
      "11     160983.540438\n",
      "12     183240.766803\n",
      "13     289114.875326\n",
      "14     247861.419538\n",
      "15     210867.897538\n",
      "16     245792.013806\n",
      "17     285406.565370\n",
      "18      79365.640503\n",
      "19     115439.039093\n",
      "20     218687.439361\n",
      "21     311162.576245\n",
      "22     117978.584525\n",
      "23     240083.844645\n",
      "24     254843.890662\n",
      "25     111828.456399\n",
      "26     117383.752756\n",
      "27     130440.591492\n",
      "28     203897.682725\n",
      "29     217808.136150\n",
      "           ...      \n",
      "696    203323.550882\n",
      "697    155765.322821\n",
      "698    195987.258471\n",
      "699    314121.995229\n",
      "700    225216.127545\n",
      "701    127538.965008\n",
      "702    164419.448080\n",
      "703    137213.562339\n",
      "704    129364.108243\n",
      "705    276116.738323\n",
      "706    134874.536178\n",
      "707    214773.032208\n",
      "708    235508.364721\n",
      "709    109781.146249\n",
      "710    280311.773415\n",
      "711    141455.498563\n",
      "712    266922.411661\n",
      "713    174961.878178\n",
      "714    161019.039501\n",
      "715    125860.691941\n",
      "716    258945.075359\n",
      "717    299741.195761\n",
      "718    151003.979615\n",
      "719    120596.636924\n",
      "720    252754.987507\n",
      "721    238614.306680\n",
      "722    346996.809907\n",
      "723    174023.801063\n",
      "724    213215.328108\n",
      "725    159361.337453\n",
      "Length: 726, dtype: float64\n",
      "     index    p_saleprice\n",
      "0        1   23119.663491\n",
      "1        4  266770.159875\n",
      "2        7  196822.261593\n",
      "3       11  247915.417104\n",
      "4       13  206931.620882\n",
      "5       18  231428.817386\n",
      "6       20   93255.638382\n",
      "7       22  134131.371181\n",
      "8       26  264117.885519\n",
      "9       43  143958.423924\n",
      "10      44   82615.730038\n",
      "11      45  160983.540438\n",
      "12      46  183240.766803\n",
      "13      52  289114.875326\n",
      "14      53  247861.419538\n",
      "15      55  210867.897538\n",
      "16      58  245792.013806\n",
      "17      63  285406.565370\n",
      "18      66   79365.640503\n",
      "19      69  115439.039093\n",
      "20      74  218687.439361\n",
      "21      81  311162.576245\n",
      "22      85  117978.584525\n",
      "23      89  240083.844645\n",
      "24      92  254843.890662\n",
      "25      93  111828.456399\n",
      "26      97  117383.752756\n",
      "27     101  130440.591492\n",
      "28     102  203897.682725\n",
      "29     103  217808.136150\n",
      "..     ...            ...\n",
      "696   2805  203323.550882\n",
      "697   2806  155765.322821\n",
      "698   2811  195987.258471\n",
      "699   2812  314121.995229\n",
      "700   2817  225216.127545\n",
      "701   2821  127538.965008\n",
      "702   2822  164419.448080\n",
      "703   2828  137213.562339\n",
      "704   2829  129364.108243\n",
      "705   2842  276116.738323\n",
      "706   2846  134874.536178\n",
      "707   2854  214773.032208\n",
      "708   2857  235508.364721\n",
      "709   2861  109781.146249\n",
      "710   2862  280311.773415\n",
      "711   2866  141455.498563\n",
      "712   2868  266922.411661\n",
      "713   2870  174961.878178\n",
      "714   2873  161019.039501\n",
      "715   2878  125860.691941\n",
      "716   2883  258945.075359\n",
      "717   2885  299741.195761\n",
      "718   2886  151003.979615\n",
      "719   2900  120596.636924\n",
      "720   2903  252754.987507\n",
      "721   2912  238614.306680\n",
      "722   2914  346996.809907\n",
      "723   2919  174023.801063\n",
      "724   2923  213215.328108\n",
      "725   2924  159361.337453\n",
      "\n",
      "[726 rows x 2 columns]\n"
     ]
    }
   ],
   "source": [
    "X = train_drop_high[['OverallQual','GrLivArea','GarageArea','TotalBsmtSF','YearBuilt',\n",
    "                'YearRemodel','MasVnrArea','Fireplaces','LotFrontage',\n",
    "                'BsmtFullBath','LotArea','YrSold','KitchenAbvGr']]\n",
    "y = train_drop_high['SalePrice']\n",
    "\n",
    "X_test = test_d[['OverallQual','GrLivArea','GarageArea','TotalBsmtSF','YearBuilt',\n",
    "                 'YearRemodel','MasVnrArea','Fireplaces','LotFrontage',\n",
    "                 'BsmtFullBath','LotArea','YrSold','KitchenAbvGr']]\n",
    "\n",
    "## fit a OLS model with intercept\n",
    "model_0_2 = smf.OLS(y, X).fit()\n",
    "\n",
    "print(model_0_2.summary())\n",
    "\n",
    "#Convert the array predictions to a data frame then merge with the index for the test data to create your file\n",
    "test_predictions = model_0_2.predict(X_test)\n",
    "print(test_predictions)\n",
    "d = {'p_saleprice': test_predictions}\n",
    "df1 = test_d[['index']]\n",
    "df2=pd.DataFrame(data=d)\n",
    "your_file = pd.concat([df1,df2],axis = 1, join_axes=[df1.index])\n",
    "print(your_file)\n",
    "your_file.to_csv('neighborhood_predictions.csv', index=False)"
   ]
  },
  {
   "cell_type": "code",
   "execution_count": 239,
   "metadata": {},
   "outputs": [
    {
     "data": {
      "text/plain": [
       "<matplotlib.text.Text at 0x1158667b8>"
      ]
     },
     "execution_count": 239,
     "metadata": {},
     "output_type": "execute_result"
    },
    {
     "data": {
      "image/png": "[encoded data removed]",
      "text/plain": [
       "<matplotlib.figure.Figure at 0x11325d240>"
      ]
     },
     "metadata": {},
     "output_type": "display_data"
    }
   ],
   "source": [
    "# Observed vs Fitted\n",
    "%matplotlib inline\n",
    "plt.scatter(train_drop_high['SalePrice'], model_0_2.fittedvalues)\n",
    "plt.ylabel('Predicted SalePrice')\n",
    "plt.xlabel('Observed SalePrice')\n",
    "plt.title('Observed vs Predicted SalePrice')"
   ]
  },
  {
   "cell_type": "code",
   "execution_count": null,
   "metadata": {
    "collapsed": true
   },
   "outputs": [],
   "source": []
  },
  {
   "cell_type": "code",
   "execution_count": null,
   "metadata": {
    "collapsed": true
   },
   "outputs": [],
   "source": []
  }
 ],
 "metadata": {
  "kernelspec": {
   "display_name": "Python [conda env:ml]",
   "language": "python",
   "name": "conda-env-ml-py"
  },
  "language_info": {
   "codemirror_mode": {
    "name": "ipython",
    "version": 3
   },
   "file_extension": ".py",
   "mimetype": "text/x-python",
   "name": "python",
   "nbconvert_exporter": "python",
   "pygments_lexer": "ipython3",
   "version": "3.6.5"
  }
 },
 "nbformat": 4,
 "nbformat_minor": 2
}
